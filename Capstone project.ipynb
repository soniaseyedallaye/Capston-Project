{
 "cells": [
  {
   "cell_type": "code",
   "execution_count": 1,
   "id": "continuing-silver",
   "metadata": {},
   "outputs": [],
   "source": [
    "import json\n",
    "import joblib\n",
    "import pickle\n",
    "import pandas as pd\n",
    "from lightgbm import LGBMClassifier\n",
    "from sklearn.model_selection import train_test_split\n",
    "from sklearn.pipeline import make_pipeline, Pipeline\n",
    "from sklearn.preprocessing import OneHotEncoder\n",
    "from sklearn.compose import ColumnTransformer\n",
    "from sklearn.impute import SimpleImputer\n",
    "from sklearn.metrics import precision_score, recall_score\n",
    "from sklearn.preprocessing import StandardScaler\n",
    "from sklearn.ensemble import RandomForestClassifier\n",
    "import numpy as np\n",
    "from sklearn.metrics import precision_recall_curve\n",
    "from sklearn.metrics import roc_auc_score,f1_score,accuracy_score\n",
    "import matplotlib.pyplot as plt\n",
    "from uuid import uuid4\n",
    "from flask import Flask, jsonify, request\n",
    "import requests"
   ]
  },
  {
   "cell_type": "code",
   "execution_count": 2,
   "id": "nearby-metro",
   "metadata": {},
   "outputs": [
    {
     "data": {
      "text/html": [
       "<div>\n",
       "<style scoped>\n",
       "    .dataframe tbody tr th:only-of-type {\n",
       "        vertical-align: middle;\n",
       "    }\n",
       "\n",
       "    .dataframe tbody tr th {\n",
       "        vertical-align: top;\n",
       "    }\n",
       "\n",
       "    .dataframe thead th {\n",
       "        text-align: right;\n",
       "    }\n",
       "</style>\n",
       "<table border=\"1\" class=\"dataframe\">\n",
       "  <thead>\n",
       "    <tr style=\"text-align: right;\">\n",
       "      <th></th>\n",
       "      <th>observation_id</th>\n",
       "      <th>Type</th>\n",
       "      <th>Date</th>\n",
       "      <th>Part of a policing operation</th>\n",
       "      <th>Latitude</th>\n",
       "      <th>Longitude</th>\n",
       "      <th>Gender</th>\n",
       "      <th>Age range</th>\n",
       "      <th>Self-defined ethnicity</th>\n",
       "      <th>Officer-defined ethnicity</th>\n",
       "      <th>Legislation</th>\n",
       "      <th>Object of search</th>\n",
       "      <th>Outcome</th>\n",
       "      <th>Outcome linked to object of search</th>\n",
       "      <th>Removal of more than just outer clothing</th>\n",
       "      <th>station</th>\n",
       "    </tr>\n",
       "  </thead>\n",
       "  <tbody>\n",
       "    <tr>\n",
       "      <th>0</th>\n",
       "      <td>34d76816-cfc2-4bdd-b3a2-bf0c40b12689</td>\n",
       "      <td>Person search</td>\n",
       "      <td>2019-12-01T00:00:00+00:00</td>\n",
       "      <td>True</td>\n",
       "      <td>NaN</td>\n",
       "      <td>NaN</td>\n",
       "      <td>Male</td>\n",
       "      <td>18-24</td>\n",
       "      <td>Asian/Asian British - Any other Asian background</td>\n",
       "      <td>Asian</td>\n",
       "      <td>Misuse of Drugs Act 1971 (section 23)</td>\n",
       "      <td>Controlled drugs</td>\n",
       "      <td>A no further action disposal</td>\n",
       "      <td>NaN</td>\n",
       "      <td>False</td>\n",
       "      <td>devon-and-cornwall</td>\n",
       "    </tr>\n",
       "    <tr>\n",
       "      <th>1</th>\n",
       "      <td>83c87ec1-e6d4-4bbb-8e0c-159516706359</td>\n",
       "      <td>Person search</td>\n",
       "      <td>2019-12-01T00:09:00+00:00</td>\n",
       "      <td>True</td>\n",
       "      <td>NaN</td>\n",
       "      <td>NaN</td>\n",
       "      <td>Male</td>\n",
       "      <td>18-24</td>\n",
       "      <td>NaN</td>\n",
       "      <td>White</td>\n",
       "      <td>Misuse of Drugs Act 1971 (section 23)</td>\n",
       "      <td>Controlled drugs</td>\n",
       "      <td>A no further action disposal</td>\n",
       "      <td>NaN</td>\n",
       "      <td>False</td>\n",
       "      <td>devon-and-cornwall</td>\n",
       "    </tr>\n",
       "    <tr>\n",
       "      <th>2</th>\n",
       "      <td>8c2eae4b-035a-492f-92d6-cd27e6c900a1</td>\n",
       "      <td>Person search</td>\n",
       "      <td>2019-12-01T00:10:00+00:00</td>\n",
       "      <td>True</td>\n",
       "      <td>NaN</td>\n",
       "      <td>NaN</td>\n",
       "      <td>Female</td>\n",
       "      <td>18-24</td>\n",
       "      <td>White - English/Welsh/Scottish/Northern Irish/...</td>\n",
       "      <td>White</td>\n",
       "      <td>Misuse of Drugs Act 1971 (section 23)</td>\n",
       "      <td>Controlled drugs</td>\n",
       "      <td>A no further action disposal</td>\n",
       "      <td>NaN</td>\n",
       "      <td>False</td>\n",
       "      <td>devon-and-cornwall</td>\n",
       "    </tr>\n",
       "    <tr>\n",
       "      <th>3</th>\n",
       "      <td>e63a036a-a728-4efe-8e08-7198f56d6d0a</td>\n",
       "      <td>Person search</td>\n",
       "      <td>2019-12-01T00:10:00+00:00</td>\n",
       "      <td>False</td>\n",
       "      <td>NaN</td>\n",
       "      <td>NaN</td>\n",
       "      <td>Male</td>\n",
       "      <td>18-24</td>\n",
       "      <td>NaN</td>\n",
       "      <td>Asian</td>\n",
       "      <td>Misuse of Drugs Act 1971 (section 23)</td>\n",
       "      <td>Controlled drugs</td>\n",
       "      <td>A no further action disposal</td>\n",
       "      <td>NaN</td>\n",
       "      <td>False</td>\n",
       "      <td>devon-and-cornwall</td>\n",
       "    </tr>\n",
       "    <tr>\n",
       "      <th>4</th>\n",
       "      <td>40c70aca-1f7f-4efe-8c5b-ade0f2e9937d</td>\n",
       "      <td>Person search</td>\n",
       "      <td>2019-12-01T00:12:00+00:00</td>\n",
       "      <td>True</td>\n",
       "      <td>50.368247</td>\n",
       "      <td>-4.126646</td>\n",
       "      <td>Male</td>\n",
       "      <td>18-24</td>\n",
       "      <td>NaN</td>\n",
       "      <td>White</td>\n",
       "      <td>Misuse of Drugs Act 1971 (section 23)</td>\n",
       "      <td>Controlled drugs</td>\n",
       "      <td>A no further action disposal</td>\n",
       "      <td>NaN</td>\n",
       "      <td>False</td>\n",
       "      <td>devon-and-cornwall</td>\n",
       "    </tr>\n",
       "  </tbody>\n",
       "</table>\n",
       "</div>"
      ],
      "text/plain": [
       "                         observation_id           Type  \\\n",
       "0  34d76816-cfc2-4bdd-b3a2-bf0c40b12689  Person search   \n",
       "1  83c87ec1-e6d4-4bbb-8e0c-159516706359  Person search   \n",
       "2  8c2eae4b-035a-492f-92d6-cd27e6c900a1  Person search   \n",
       "3  e63a036a-a728-4efe-8e08-7198f56d6d0a  Person search   \n",
       "4  40c70aca-1f7f-4efe-8c5b-ade0f2e9937d  Person search   \n",
       "\n",
       "                        Date Part of a policing operation   Latitude  \\\n",
       "0  2019-12-01T00:00:00+00:00                         True        NaN   \n",
       "1  2019-12-01T00:09:00+00:00                         True        NaN   \n",
       "2  2019-12-01T00:10:00+00:00                         True        NaN   \n",
       "3  2019-12-01T00:10:00+00:00                        False        NaN   \n",
       "4  2019-12-01T00:12:00+00:00                         True  50.368247   \n",
       "\n",
       "   Longitude  Gender Age range  \\\n",
       "0        NaN    Male     18-24   \n",
       "1        NaN    Male     18-24   \n",
       "2        NaN  Female     18-24   \n",
       "3        NaN    Male     18-24   \n",
       "4  -4.126646    Male     18-24   \n",
       "\n",
       "                              Self-defined ethnicity  \\\n",
       "0   Asian/Asian British - Any other Asian background   \n",
       "1                                                NaN   \n",
       "2  White - English/Welsh/Scottish/Northern Irish/...   \n",
       "3                                                NaN   \n",
       "4                                                NaN   \n",
       "\n",
       "  Officer-defined ethnicity                            Legislation  \\\n",
       "0                     Asian  Misuse of Drugs Act 1971 (section 23)   \n",
       "1                     White  Misuse of Drugs Act 1971 (section 23)   \n",
       "2                     White  Misuse of Drugs Act 1971 (section 23)   \n",
       "3                     Asian  Misuse of Drugs Act 1971 (section 23)   \n",
       "4                     White  Misuse of Drugs Act 1971 (section 23)   \n",
       "\n",
       "   Object of search                       Outcome  \\\n",
       "0  Controlled drugs  A no further action disposal   \n",
       "1  Controlled drugs  A no further action disposal   \n",
       "2  Controlled drugs  A no further action disposal   \n",
       "3  Controlled drugs  A no further action disposal   \n",
       "4  Controlled drugs  A no further action disposal   \n",
       "\n",
       "  Outcome linked to object of search Removal of more than just outer clothing  \\\n",
       "0                                NaN                                    False   \n",
       "1                                NaN                                    False   \n",
       "2                                NaN                                    False   \n",
       "3                                NaN                                    False   \n",
       "4                                NaN                                    False   \n",
       "\n",
       "              station  \n",
       "0  devon-and-cornwall  \n",
       "1  devon-and-cornwall  \n",
       "2  devon-and-cornwall  \n",
       "3  devon-and-cornwall  \n",
       "4  devon-and-cornwall  "
      ]
     },
     "execution_count": 2,
     "metadata": {},
     "output_type": "execute_result"
    }
   ],
   "source": [
    "df = pd.read_csv(\"train.csv\")\n",
    "df.head()"
   ]
  },
  {
   "cell_type": "markdown",
   "id": "automotive-speech",
   "metadata": {},
   "source": [
    "# Information about dataframe"
   ]
  },
  {
   "cell_type": "code",
   "execution_count": 3,
   "id": "subsequent-library",
   "metadata": {},
   "outputs": [
    {
     "data": {
      "text/plain": [
       "(660611, 16)"
      ]
     },
     "execution_count": 3,
     "metadata": {},
     "output_type": "execute_result"
    }
   ],
   "source": [
    "df.shape"
   ]
  },
  {
   "cell_type": "code",
   "execution_count": 4,
   "id": "minimal-shareware",
   "metadata": {},
   "outputs": [
    {
     "data": {
      "text/plain": [
       "Index(['observation_id', 'Type', 'Date', 'Part of a policing operation',\n",
       "       'Latitude', 'Longitude', 'Gender', 'Age range',\n",
       "       'Self-defined ethnicity', 'Officer-defined ethnicity', 'Legislation',\n",
       "       'Object of search', 'Outcome', 'Outcome linked to object of search',\n",
       "       'Removal of more than just outer clothing', 'station'],\n",
       "      dtype='object')"
      ]
     },
     "execution_count": 4,
     "metadata": {},
     "output_type": "execute_result"
    }
   ],
   "source": [
    "df.columns"
   ]
  },
  {
   "cell_type": "code",
   "execution_count": 5,
   "id": "empirical-candle",
   "metadata": {},
   "outputs": [
    {
     "name": "stdout",
     "output_type": "stream",
     "text": [
      "<class 'pandas.core.frame.DataFrame'>\n",
      "RangeIndex: 660611 entries, 0 to 660610\n",
      "Data columns (total 16 columns):\n",
      " #   Column                                    Non-Null Count   Dtype  \n",
      "---  ------                                    --------------   -----  \n",
      " 0   observation_id                            660611 non-null  object \n",
      " 1   Type                                      660611 non-null  object \n",
      " 2   Date                                      660611 non-null  object \n",
      " 3   Part of a policing operation              507047 non-null  object \n",
      " 4   Latitude                                  548295 non-null  float64\n",
      " 5   Longitude                                 548295 non-null  float64\n",
      " 6   Gender                                    660611 non-null  object \n",
      " 7   Age range                                 660611 non-null  object \n",
      " 8   Self-defined ethnicity                    655037 non-null  object \n",
      " 9   Officer-defined ethnicity                 660611 non-null  object \n",
      " 10  Legislation                               632671 non-null  object \n",
      " 11  Object of search                          660611 non-null  object \n",
      " 12  Outcome                                   660611 non-null  object \n",
      " 13  Outcome linked to object of search        187511 non-null  object \n",
      " 14  Removal of more than just outer clothing  234062 non-null  object \n",
      " 15  station                                   660611 non-null  object \n",
      "dtypes: float64(2), object(14)\n",
      "memory usage: 80.6+ MB\n"
     ]
    }
   ],
   "source": [
    "df.info()"
   ]
  },
  {
   "cell_type": "code",
   "execution_count": 6,
   "id": "funded-sapphire",
   "metadata": {},
   "outputs": [
    {
     "data": {
      "text/plain": [
       "426549"
      ]
     },
     "execution_count": 6,
     "metadata": {},
     "output_type": "execute_result"
    }
   ],
   "source": [
    "660611-234062"
   ]
  },
  {
   "cell_type": "code",
   "execution_count": 7,
   "id": "uniform-barrier",
   "metadata": {},
   "outputs": [],
   "source": [
    "#Results: "
   ]
  },
  {
   "cell_type": "markdown",
   "id": "charming-spyware",
   "metadata": {},
   "source": [
    "# Information about columns"
   ]
  },
  {
   "cell_type": "markdown",
   "id": "thirty-mexican",
   "metadata": {},
   "source": [
    "Observation_id"
   ]
  },
  {
   "cell_type": "code",
   "execution_count": 8,
   "id": "cordless-basketball",
   "metadata": {},
   "outputs": [
    {
     "data": {
      "text/plain": [
       "522cf527-453f-4fa8-adc7-47de4a2911e5    1\n",
       "dadd0830-8413-4807-b086-9316604cb83a    1\n",
       "11aaa251-9cba-4ae4-b927-fd4a7fc625fe    1\n",
       "4015be40-f8a9-4258-82ba-ada0c3148187    1\n",
       "bd7564e3-50c6-4d00-acc1-2e5a0587d8aa    1\n",
       "                                       ..\n",
       "54d7d4bc-caf4-45fd-9a36-8424093050b2    1\n",
       "3955c51a-6dde-4673-8b32-431498b0c545    1\n",
       "d3c0080f-f86c-402a-8491-5970cbccdb6f    1\n",
       "104d1bf2-a208-4f2a-a554-576e357ceef8    1\n",
       "786df035-7ede-4e57-9562-31833915b25b    1\n",
       "Name: observation_id, Length: 660611, dtype: int64"
      ]
     },
     "execution_count": 8,
     "metadata": {},
     "output_type": "execute_result"
    }
   ],
   "source": [
    "df['observation_id'].value_counts()"
   ]
  },
  {
   "cell_type": "code",
   "execution_count": 9,
   "id": "opposed-starter",
   "metadata": {},
   "outputs": [],
   "source": [
    "#Decision : remove observation_id because it is unique(len of series is equal to the number of rows of df) and do not add anything to our model"
   ]
  },
  {
   "cell_type": "markdown",
   "id": "imposed-robertson",
   "metadata": {},
   "source": [
    "Type"
   ]
  },
  {
   "cell_type": "code",
   "execution_count": 10,
   "id": "respected-glenn",
   "metadata": {},
   "outputs": [
    {
     "data": {
      "text/plain": [
       "array(['Person search', 'Person and Vehicle search', 'Vehicle search'],\n",
       "      dtype=object)"
      ]
     },
     "execution_count": 10,
     "metadata": {},
     "output_type": "execute_result"
    }
   ],
   "source": [
    "df.Type.unique()"
   ]
  },
  {
   "cell_type": "code",
   "execution_count": 11,
   "id": "arabic-denmark",
   "metadata": {},
   "outputs": [
    {
     "data": {
      "text/plain": [
       "Person search                503503\n",
       "Person and Vehicle search    156156\n",
       "Vehicle search                  952\n",
       "Name: Type, dtype: int64"
      ]
     },
     "execution_count": 11,
     "metadata": {},
     "output_type": "execute_result"
    }
   ],
   "source": [
    "df.Type.value_counts()"
   ]
  },
  {
   "cell_type": "code",
   "execution_count": 12,
   "id": "dependent-native",
   "metadata": {},
   "outputs": [
    {
     "data": {
      "image/png": "[encoded data removed]",
      "text/plain": [
       "<Figure size 432x288 with 1 Axes>"
      ]
     },
     "metadata": {
      "needs_background": "light"
     },
     "output_type": "display_data"
    }
   ],
   "source": [
    "df.Type.hist()\n",
    "plt.xlabel('Type');\n",
    "plt.ylabel('Count');"
   ]
  },
  {
   "cell_type": "markdown",
   "id": "large-worst",
   "metadata": {},
   "source": [
    "Part of a policing operation"
   ]
  },
  {
   "cell_type": "code",
   "execution_count": 13,
   "id": "understanding-measurement",
   "metadata": {},
   "outputs": [
    {
     "data": {
      "text/plain": [
       "array([True, False, nan], dtype=object)"
      ]
     },
     "execution_count": 13,
     "metadata": {},
     "output_type": "execute_result"
    }
   ],
   "source": [
    "df['Part of a policing operation'].unique()"
   ]
  },
  {
   "cell_type": "code",
   "execution_count": 14,
   "id": "checked-pension",
   "metadata": {},
   "outputs": [
    {
     "data": {
      "text/plain": [
       "False    490773\n",
       "True      16274\n",
       "Name: Part of a policing operation, dtype: int64"
      ]
     },
     "execution_count": 14,
     "metadata": {},
     "output_type": "execute_result"
    }
   ],
   "source": [
    "df['Part of a policing operation'].value_counts()"
   ]
  },
  {
   "cell_type": "code",
   "execution_count": 15,
   "id": "referenced-president",
   "metadata": {},
   "outputs": [
    {
     "data": {
      "text/plain": [
       "153564"
      ]
     },
     "execution_count": 15,
     "metadata": {},
     "output_type": "execute_result"
    }
   ],
   "source": [
    "df['Part of a policing operation'].isnull().sum()"
   ]
  },
  {
   "cell_type": "code",
   "execution_count": 16,
   "id": "explicit-straight",
   "metadata": {},
   "outputs": [
    {
     "data": {
      "text/plain": [
       "Text(0, 0.5, 'Count')"
      ]
     },
     "execution_count": 16,
     "metadata": {},
     "output_type": "execute_result"
    },
    {
     "data": {
      "image/png": "[encoded data removed]",
      "text/plain": [
       "<Figure size 432x288 with 1 Axes>"
      ]
     },
     "metadata": {
      "needs_background": "light"
     },
     "output_type": "display_data"
    }
   ],
   "source": [
    "df['Part of a policing operation'].value_counts().plot.bar()\n",
    "plt.xlabel('Part of a policing operation')\n",
    "plt.ylabel('Count')"
   ]
  },
  {
   "cell_type": "code",
   "execution_count": 17,
   "id": "beginning-sleeve",
   "metadata": {},
   "outputs": [],
   "source": [
    "#Decision : I need more information about this column"
   ]
  },
  {
   "cell_type": "markdown",
   "id": "animated-florida",
   "metadata": {},
   "source": [
    "Latitude, Langitude, station"
   ]
  },
  {
   "cell_type": "code",
   "execution_count": 18,
   "id": "ongoing-allergy",
   "metadata": {},
   "outputs": [
    {
     "data": {
      "text/plain": [
       "Latitude     112316\n",
       "Longitude    112316\n",
       "station           0\n",
       "dtype: int64"
      ]
     },
     "execution_count": 18,
     "metadata": {},
     "output_type": "execute_result"
    }
   ],
   "source": [
    "df.loc[:,['Latitude','Longitude','station']].isnull().sum()"
   ]
  },
  {
   "cell_type": "code",
   "execution_count": 19,
   "id": "legendary-thousand",
   "metadata": {},
   "outputs": [
    {
     "data": {
      "text/plain": [
       "51.378427    1286\n",
       "51.402747    1243\n",
       "51.539189    1104\n",
       "51.522956     830\n",
       "51.516120     827\n",
       "             ... \n",
       "50.819422       1\n",
       "52.016083       1\n",
       "52.266771       1\n",
       "53.232820       1\n",
       "51.517360       1\n",
       "Name: Latitude, Length: 103638, dtype: int64"
      ]
     },
     "execution_count": 19,
     "metadata": {},
     "output_type": "execute_result"
    }
   ],
   "source": [
    "df.Latitude.value_counts()"
   ]
  },
  {
   "cell_type": "code",
   "execution_count": 20,
   "id": "expired-notion",
   "metadata": {},
   "outputs": [
    {
     "data": {
      "text/html": [
       "<div>\n",
       "<style scoped>\n",
       "    .dataframe tbody tr th:only-of-type {\n",
       "        vertical-align: middle;\n",
       "    }\n",
       "\n",
       "    .dataframe tbody tr th {\n",
       "        vertical-align: top;\n",
       "    }\n",
       "\n",
       "    .dataframe thead th {\n",
       "        text-align: right;\n",
       "    }\n",
       "</style>\n",
       "<table border=\"1\" class=\"dataframe\">\n",
       "  <thead>\n",
       "    <tr style=\"text-align: right;\">\n",
       "      <th></th>\n",
       "      <th>Latitude</th>\n",
       "      <th>Longitude</th>\n",
       "      <th>station</th>\n",
       "    </tr>\n",
       "  </thead>\n",
       "  <tbody>\n",
       "    <tr>\n",
       "      <th>660571</th>\n",
       "      <td>51.372929</td>\n",
       "      <td>-2.125311</td>\n",
       "      <td>wiltshire</td>\n",
       "    </tr>\n",
       "    <tr>\n",
       "      <th>660572</th>\n",
       "      <td>51.254789</td>\n",
       "      <td>-2.195532</td>\n",
       "      <td>wiltshire</td>\n",
       "    </tr>\n",
       "    <tr>\n",
       "      <th>660573</th>\n",
       "      <td>51.303239</td>\n",
       "      <td>-2.228645</td>\n",
       "      <td>wiltshire</td>\n",
       "    </tr>\n",
       "    <tr>\n",
       "      <th>660574</th>\n",
       "      <td>51.303239</td>\n",
       "      <td>-2.228645</td>\n",
       "      <td>wiltshire</td>\n",
       "    </tr>\n",
       "    <tr>\n",
       "      <th>660575</th>\n",
       "      <td>51.068597</td>\n",
       "      <td>-1.796761</td>\n",
       "      <td>wiltshire</td>\n",
       "    </tr>\n",
       "    <tr>\n",
       "      <th>660576</th>\n",
       "      <td>51.458875</td>\n",
       "      <td>-2.121041</td>\n",
       "      <td>wiltshire</td>\n",
       "    </tr>\n",
       "    <tr>\n",
       "      <th>660577</th>\n",
       "      <td>51.458875</td>\n",
       "      <td>-2.121041</td>\n",
       "      <td>wiltshire</td>\n",
       "    </tr>\n",
       "    <tr>\n",
       "      <th>660578</th>\n",
       "      <td>51.458875</td>\n",
       "      <td>-2.121041</td>\n",
       "      <td>wiltshire</td>\n",
       "    </tr>\n",
       "    <tr>\n",
       "      <th>660579</th>\n",
       "      <td>51.458875</td>\n",
       "      <td>-2.121041</td>\n",
       "      <td>wiltshire</td>\n",
       "    </tr>\n",
       "    <tr>\n",
       "      <th>660580</th>\n",
       "      <td>NaN</td>\n",
       "      <td>NaN</td>\n",
       "      <td>wiltshire</td>\n",
       "    </tr>\n",
       "    <tr>\n",
       "      <th>660581</th>\n",
       "      <td>NaN</td>\n",
       "      <td>NaN</td>\n",
       "      <td>wiltshire</td>\n",
       "    </tr>\n",
       "    <tr>\n",
       "      <th>660582</th>\n",
       "      <td>51.437475</td>\n",
       "      <td>-2.004224</td>\n",
       "      <td>wiltshire</td>\n",
       "    </tr>\n",
       "    <tr>\n",
       "      <th>660583</th>\n",
       "      <td>NaN</td>\n",
       "      <td>NaN</td>\n",
       "      <td>wiltshire</td>\n",
       "    </tr>\n",
       "    <tr>\n",
       "      <th>660584</th>\n",
       "      <td>NaN</td>\n",
       "      <td>NaN</td>\n",
       "      <td>wiltshire</td>\n",
       "    </tr>\n",
       "    <tr>\n",
       "      <th>660585</th>\n",
       "      <td>NaN</td>\n",
       "      <td>NaN</td>\n",
       "      <td>wiltshire</td>\n",
       "    </tr>\n",
       "    <tr>\n",
       "      <th>660586</th>\n",
       "      <td>NaN</td>\n",
       "      <td>NaN</td>\n",
       "      <td>wiltshire</td>\n",
       "    </tr>\n",
       "    <tr>\n",
       "      <th>660587</th>\n",
       "      <td>51.553498</td>\n",
       "      <td>-1.750866</td>\n",
       "      <td>wiltshire</td>\n",
       "    </tr>\n",
       "    <tr>\n",
       "      <th>660588</th>\n",
       "      <td>NaN</td>\n",
       "      <td>NaN</td>\n",
       "      <td>wiltshire</td>\n",
       "    </tr>\n",
       "    <tr>\n",
       "      <th>660589</th>\n",
       "      <td>51.642180</td>\n",
       "      <td>-1.867637</td>\n",
       "      <td>wiltshire</td>\n",
       "    </tr>\n",
       "    <tr>\n",
       "      <th>660590</th>\n",
       "      <td>51.642180</td>\n",
       "      <td>-1.867637</td>\n",
       "      <td>wiltshire</td>\n",
       "    </tr>\n",
       "    <tr>\n",
       "      <th>660591</th>\n",
       "      <td>51.068717</td>\n",
       "      <td>-1.798374</td>\n",
       "      <td>wiltshire</td>\n",
       "    </tr>\n",
       "    <tr>\n",
       "      <th>660592</th>\n",
       "      <td>51.316398</td>\n",
       "      <td>-2.207632</td>\n",
       "      <td>wiltshire</td>\n",
       "    </tr>\n",
       "    <tr>\n",
       "      <th>660593</th>\n",
       "      <td>51.316398</td>\n",
       "      <td>-2.207632</td>\n",
       "      <td>wiltshire</td>\n",
       "    </tr>\n",
       "    <tr>\n",
       "      <th>660594</th>\n",
       "      <td>51.316398</td>\n",
       "      <td>-2.207632</td>\n",
       "      <td>wiltshire</td>\n",
       "    </tr>\n",
       "    <tr>\n",
       "      <th>660595</th>\n",
       "      <td>NaN</td>\n",
       "      <td>NaN</td>\n",
       "      <td>wiltshire</td>\n",
       "    </tr>\n",
       "    <tr>\n",
       "      <th>660596</th>\n",
       "      <td>NaN</td>\n",
       "      <td>NaN</td>\n",
       "      <td>wiltshire</td>\n",
       "    </tr>\n",
       "    <tr>\n",
       "      <th>660597</th>\n",
       "      <td>NaN</td>\n",
       "      <td>NaN</td>\n",
       "      <td>wiltshire</td>\n",
       "    </tr>\n",
       "    <tr>\n",
       "      <th>660598</th>\n",
       "      <td>NaN</td>\n",
       "      <td>NaN</td>\n",
       "      <td>wiltshire</td>\n",
       "    </tr>\n",
       "    <tr>\n",
       "      <th>660599</th>\n",
       "      <td>NaN</td>\n",
       "      <td>NaN</td>\n",
       "      <td>wiltshire</td>\n",
       "    </tr>\n",
       "    <tr>\n",
       "      <th>660600</th>\n",
       "      <td>51.522309</td>\n",
       "      <td>-1.839835</td>\n",
       "      <td>wiltshire</td>\n",
       "    </tr>\n",
       "    <tr>\n",
       "      <th>660601</th>\n",
       "      <td>51.156811</td>\n",
       "      <td>-1.859133</td>\n",
       "      <td>wiltshire</td>\n",
       "    </tr>\n",
       "    <tr>\n",
       "      <th>660602</th>\n",
       "      <td>51.446286</td>\n",
       "      <td>-2.013650</td>\n",
       "      <td>wiltshire</td>\n",
       "    </tr>\n",
       "    <tr>\n",
       "      <th>660603</th>\n",
       "      <td>51.720270</td>\n",
       "      <td>-1.953499</td>\n",
       "      <td>wiltshire</td>\n",
       "    </tr>\n",
       "    <tr>\n",
       "      <th>660604</th>\n",
       "      <td>NaN</td>\n",
       "      <td>NaN</td>\n",
       "      <td>wiltshire</td>\n",
       "    </tr>\n",
       "    <tr>\n",
       "      <th>660605</th>\n",
       "      <td>NaN</td>\n",
       "      <td>NaN</td>\n",
       "      <td>wiltshire</td>\n",
       "    </tr>\n",
       "    <tr>\n",
       "      <th>660606</th>\n",
       "      <td>NaN</td>\n",
       "      <td>NaN</td>\n",
       "      <td>wiltshire</td>\n",
       "    </tr>\n",
       "    <tr>\n",
       "      <th>660607</th>\n",
       "      <td>51.540219</td>\n",
       "      <td>-1.764708</td>\n",
       "      <td>wiltshire</td>\n",
       "    </tr>\n",
       "    <tr>\n",
       "      <th>660608</th>\n",
       "      <td>51.540219</td>\n",
       "      <td>-1.764708</td>\n",
       "      <td>wiltshire</td>\n",
       "    </tr>\n",
       "    <tr>\n",
       "      <th>660609</th>\n",
       "      <td>51.540219</td>\n",
       "      <td>-1.764708</td>\n",
       "      <td>wiltshire</td>\n",
       "    </tr>\n",
       "    <tr>\n",
       "      <th>660610</th>\n",
       "      <td>NaN</td>\n",
       "      <td>NaN</td>\n",
       "      <td>wiltshire</td>\n",
       "    </tr>\n",
       "  </tbody>\n",
       "</table>\n",
       "</div>"
      ],
      "text/plain": [
       "         Latitude  Longitude    station\n",
       "660571  51.372929  -2.125311  wiltshire\n",
       "660572  51.254789  -2.195532  wiltshire\n",
       "660573  51.303239  -2.228645  wiltshire\n",
       "660574  51.303239  -2.228645  wiltshire\n",
       "660575  51.068597  -1.796761  wiltshire\n",
       "660576  51.458875  -2.121041  wiltshire\n",
       "660577  51.458875  -2.121041  wiltshire\n",
       "660578  51.458875  -2.121041  wiltshire\n",
       "660579  51.458875  -2.121041  wiltshire\n",
       "660580        NaN        NaN  wiltshire\n",
       "660581        NaN        NaN  wiltshire\n",
       "660582  51.437475  -2.004224  wiltshire\n",
       "660583        NaN        NaN  wiltshire\n",
       "660584        NaN        NaN  wiltshire\n",
       "660585        NaN        NaN  wiltshire\n",
       "660586        NaN        NaN  wiltshire\n",
       "660587  51.553498  -1.750866  wiltshire\n",
       "660588        NaN        NaN  wiltshire\n",
       "660589  51.642180  -1.867637  wiltshire\n",
       "660590  51.642180  -1.867637  wiltshire\n",
       "660591  51.068717  -1.798374  wiltshire\n",
       "660592  51.316398  -2.207632  wiltshire\n",
       "660593  51.316398  -2.207632  wiltshire\n",
       "660594  51.316398  -2.207632  wiltshire\n",
       "660595        NaN        NaN  wiltshire\n",
       "660596        NaN        NaN  wiltshire\n",
       "660597        NaN        NaN  wiltshire\n",
       "660598        NaN        NaN  wiltshire\n",
       "660599        NaN        NaN  wiltshire\n",
       "660600  51.522309  -1.839835  wiltshire\n",
       "660601  51.156811  -1.859133  wiltshire\n",
       "660602  51.446286  -2.013650  wiltshire\n",
       "660603  51.720270  -1.953499  wiltshire\n",
       "660604        NaN        NaN  wiltshire\n",
       "660605        NaN        NaN  wiltshire\n",
       "660606        NaN        NaN  wiltshire\n",
       "660607  51.540219  -1.764708  wiltshire\n",
       "660608  51.540219  -1.764708  wiltshire\n",
       "660609  51.540219  -1.764708  wiltshire\n",
       "660610        NaN        NaN  wiltshire"
      ]
     },
     "execution_count": 20,
     "metadata": {},
     "output_type": "execute_result"
    }
   ],
   "source": [
    "df.loc[:,['Latitude','Longitude','station']].tail(n=40)"
   ]
  },
  {
   "cell_type": "code",
   "execution_count": 21,
   "id": "forty-information",
   "metadata": {},
   "outputs": [
    {
     "data": {
      "text/plain": [
       "49.892149"
      ]
     },
     "execution_count": 21,
     "metadata": {},
     "output_type": "execute_result"
    }
   ],
   "source": [
    "df.Latitude.min()"
   ]
  },
  {
   "cell_type": "code",
   "execution_count": 22,
   "id": "satellite-passing",
   "metadata": {},
   "outputs": [
    {
     "data": {
      "text/plain": [
       "57.14385600000001"
      ]
     },
     "execution_count": 22,
     "metadata": {},
     "output_type": "execute_result"
    }
   ],
   "source": [
    "df.Latitude.max()"
   ]
  },
  {
   "cell_type": "code",
   "execution_count": 23,
   "id": "victorian-principal",
   "metadata": {},
   "outputs": [
    {
     "data": {
      "text/plain": [
       "-8.053397"
      ]
     },
     "execution_count": 23,
     "metadata": {},
     "output_type": "execute_result"
    }
   ],
   "source": [
    "df.Longitude.min()"
   ]
  },
  {
   "cell_type": "code",
   "execution_count": 24,
   "id": "closing-vintage",
   "metadata": {},
   "outputs": [
    {
     "data": {
      "text/plain": [
       "1.7564799999999998"
      ]
     },
     "execution_count": 24,
     "metadata": {},
     "output_type": "execute_result"
    }
   ],
   "source": [
    "df.Longitude.max()"
   ]
  },
  {
   "cell_type": "code",
   "execution_count": 25,
   "id": "lyric-accident",
   "metadata": {},
   "outputs": [
    {
     "data": {
      "text/plain": [
       "metropolitan          351294\n",
       "merseyside             41597\n",
       "essex                  19039\n",
       "thames-valley          17898\n",
       "west-yorkshire         17144\n",
       "hampshire              13963\n",
       "hertfordshire          13328\n",
       "kent                   13309\n",
       "south-yorkshire        13165\n",
       "surrey                 10972\n",
       "avon-and-somerset      10015\n",
       "btp                     9555\n",
       "lancashire              9154\n",
       "west-mercia             7904\n",
       "devon-and-cornwall      7569\n",
       "staffordshire           7318\n",
       "nottinghamshire         7103\n",
       "northumbria             7049\n",
       "sussex                  6941\n",
       "north-wales             5215\n",
       "lincolnshire            5047\n",
       "leicestershire          4980\n",
       "greater-manchester      4851\n",
       "cheshire                4845\n",
       "norfolk                 4779\n",
       "dyfed-powys             4315\n",
       "bedfordshire            4209\n",
       "humberside              3783\n",
       "city-of-london          3575\n",
       "northamptonshire        3526\n",
       "suffolk                 3355\n",
       "warwickshire            3249\n",
       "gloucestershire         2871\n",
       "derbyshire              2852\n",
       "dorset                  2825\n",
       "durham                  2778\n",
       "north-yorkshire         2234\n",
       "cumbria                 2129\n",
       "cleveland               1872\n",
       "wiltshire               1355\n",
       "cambridgeshire           877\n",
       "gwent                    772\n",
       "Name: station, dtype: int64"
      ]
     },
     "execution_count": 25,
     "metadata": {},
     "output_type": "execute_result"
    }
   ],
   "source": [
    "df.station.value_counts()"
   ]
  },
  {
   "cell_type": "code",
   "execution_count": 26,
   "id": "searching-antigua",
   "metadata": {},
   "outputs": [],
   "source": [
    "##I keep all 3 features and fill nans with strategy mean() for latitude and Langitude"
   ]
  },
  {
   "cell_type": "markdown",
   "id": "underlying-keeping",
   "metadata": {},
   "source": [
    "Gender"
   ]
  },
  {
   "cell_type": "code",
   "execution_count": 27,
   "id": "pregnant-worker",
   "metadata": {},
   "outputs": [
    {
     "data": {
      "text/plain": [
       "Male      605422\n",
       "Female     54812\n",
       "Other        377\n",
       "Name: Gender, dtype: int64"
      ]
     },
     "execution_count": 27,
     "metadata": {},
     "output_type": "execute_result"
    }
   ],
   "source": [
    "df.Gender.value_counts()"
   ]
  },
  {
   "cell_type": "code",
   "execution_count": 28,
   "id": "palestinian-gallery",
   "metadata": {},
   "outputs": [
    {
     "data": {
      "image/png": "[encoded data removed]",
      "text/plain": [
       "<Figure size 432x288 with 1 Axes>"
      ]
     },
     "metadata": {
      "needs_background": "light"
     },
     "output_type": "display_data"
    }
   ],
   "source": [
    "df.Gender.hist()\n",
    "plt.xlabel('Gender');\n",
    "plt.ylabel('Count');"
   ]
  },
  {
   "cell_type": "code",
   "execution_count": 29,
   "id": "greater-english",
   "metadata": {},
   "outputs": [
    {
     "data": {
      "text/plain": [
       "A no further action disposal               267\n",
       "Arrest                                      39\n",
       "Community resolution                        23\n",
       "Nothing found - no further action           14\n",
       "Khat or Cannabis warning                     9\n",
       "Summons / charged by post                    7\n",
       "Caution (simple or conditional)              5\n",
       "Offender given drugs possession warning      4\n",
       "Suspect arrested                             4\n",
       "Penalty Notice for Disorder                  4\n",
       "Suspect summonsed to court                   1\n",
       "Name: Outcome, dtype: int64"
      ]
     },
     "execution_count": 29,
     "metadata": {},
     "output_type": "execute_result"
    }
   ],
   "source": [
    "df[df.Gender=='Other'].Outcome.value_counts()"
   ]
  },
  {
   "cell_type": "code",
   "execution_count": 30,
   "id": "editorial-genesis",
   "metadata": {},
   "outputs": [
    {
     "data": {
      "text/plain": [
       "18-24       126\n",
       "10-17        85\n",
       "25-34        83\n",
       "over 34      80\n",
       "under 10      3\n",
       "Name: Age range, dtype: int64"
      ]
     },
     "execution_count": 30,
     "metadata": {},
     "output_type": "execute_result"
    }
   ],
   "source": [
    "df[df.Gender=='Other']['Age range'].value_counts()"
   ]
  },
  {
   "cell_type": "code",
   "execution_count": 31,
   "id": "cognitive-brunswick",
   "metadata": {},
   "outputs": [],
   "source": [
    "#Result\n",
    "#There's a clear disparity between samples for each gender,\n",
    "#this might be a problem not only to train the model but to efficiently analyze its biases.\n",
    "# there is also other group wich can be removed from our analysis or can be go to the F group\n",
    "#Remove Other from analysis"
   ]
  },
  {
   "cell_type": "code",
   "execution_count": 32,
   "id": "classified-image",
   "metadata": {},
   "outputs": [
    {
     "data": {
      "text/plain": [
       "Index(['observation_id', 'Type', 'Date', 'Part of a policing operation',\n",
       "       'Latitude', 'Longitude', 'Gender', 'Age range',\n",
       "       'Self-defined ethnicity', 'Officer-defined ethnicity', 'Legislation',\n",
       "       'Object of search', 'Outcome', 'Outcome linked to object of search',\n",
       "       'Removal of more than just outer clothing', 'station'],\n",
       "      dtype='object')"
      ]
     },
     "execution_count": 32,
     "metadata": {},
     "output_type": "execute_result"
    }
   ],
   "source": [
    "df.columns"
   ]
  },
  {
   "cell_type": "markdown",
   "id": "deluxe-dallas",
   "metadata": {},
   "source": [
    "Age range"
   ]
  },
  {
   "cell_type": "code",
   "execution_count": 33,
   "id": "allied-accordance",
   "metadata": {},
   "outputs": [
    {
     "data": {
      "text/plain": [
       "18-24       241905\n",
       "25-34       158181\n",
       "10-17       131763\n",
       "over 34     128378\n",
       "under 10       384\n",
       "Name: Age range, dtype: int64"
      ]
     },
     "execution_count": 33,
     "metadata": {},
     "output_type": "execute_result"
    }
   ],
   "source": [
    "df['Age range'].value_counts()"
   ]
  },
  {
   "cell_type": "code",
   "execution_count": 34,
   "id": "average-helicopter",
   "metadata": {},
   "outputs": [
    {
     "data": {
      "image/png": "[encoded data removed]",
      "text/plain": [
       "<Figure size 432x288 with 1 Axes>"
      ]
     },
     "metadata": {
      "needs_background": "light"
     },
     "output_type": "display_data"
    }
   ],
   "source": [
    "#remove under 10 age\n",
    "df['Age range'].hist()\n",
    "plt.xlabel('Age range');\n",
    "plt.ylabel('Count');"
   ]
  },
  {
   "cell_type": "code",
   "execution_count": 35,
   "id": "complete-margin",
   "metadata": {},
   "outputs": [
    {
     "data": {
      "text/html": [
       "<div>\n",
       "<style scoped>\n",
       "    .dataframe tbody tr th:only-of-type {\n",
       "        vertical-align: middle;\n",
       "    }\n",
       "\n",
       "    .dataframe tbody tr th {\n",
       "        vertical-align: top;\n",
       "    }\n",
       "\n",
       "    .dataframe thead th {\n",
       "        text-align: right;\n",
       "    }\n",
       "</style>\n",
       "<table border=\"1\" class=\"dataframe\">\n",
       "  <thead>\n",
       "    <tr style=\"text-align: right;\">\n",
       "      <th></th>\n",
       "      <th>observation_id</th>\n",
       "      <th>Type</th>\n",
       "      <th>Date</th>\n",
       "      <th>Part of a policing operation</th>\n",
       "      <th>Latitude</th>\n",
       "      <th>Longitude</th>\n",
       "      <th>Gender</th>\n",
       "      <th>Age range</th>\n",
       "      <th>Self-defined ethnicity</th>\n",
       "      <th>Officer-defined ethnicity</th>\n",
       "      <th>Legislation</th>\n",
       "      <th>Object of search</th>\n",
       "      <th>Outcome</th>\n",
       "      <th>Outcome linked to object of search</th>\n",
       "      <th>Removal of more than just outer clothing</th>\n",
       "      <th>station</th>\n",
       "    </tr>\n",
       "  </thead>\n",
       "  <tbody>\n",
       "    <tr>\n",
       "      <th>429</th>\n",
       "      <td>ea483461-7a08-4e70-aa6a-4a25e61ddef1</td>\n",
       "      <td>Person search</td>\n",
       "      <td>2019-12-11T00:00:00+00:00</td>\n",
       "      <td>NaN</td>\n",
       "      <td>NaN</td>\n",
       "      <td>NaN</td>\n",
       "      <td>Male</td>\n",
       "      <td>under 10</td>\n",
       "      <td>White - English/Welsh/Scottish/Northern Irish/...</td>\n",
       "      <td>White</td>\n",
       "      <td>Misuse of Drugs Act 1971 (section 23)</td>\n",
       "      <td>Controlled drugs</td>\n",
       "      <td>A no further action disposal</td>\n",
       "      <td>NaN</td>\n",
       "      <td>False</td>\n",
       "      <td>dyfed-powys</td>\n",
       "    </tr>\n",
       "    <tr>\n",
       "      <th>779</th>\n",
       "      <td>cfc269b8-e34d-4239-a4dc-f052b56a8022</td>\n",
       "      <td>Person search</td>\n",
       "      <td>2019-12-04T17:30:00+00:00</td>\n",
       "      <td>False</td>\n",
       "      <td>NaN</td>\n",
       "      <td>NaN</td>\n",
       "      <td>Female</td>\n",
       "      <td>under 10</td>\n",
       "      <td>White - Any other White background</td>\n",
       "      <td>White</td>\n",
       "      <td>Police and Criminal Evidence Act 1984 (section 1)</td>\n",
       "      <td>Stolen goods</td>\n",
       "      <td>A no further action disposal</td>\n",
       "      <td>NaN</td>\n",
       "      <td>False</td>\n",
       "      <td>bedfordshire</td>\n",
       "    </tr>\n",
       "    <tr>\n",
       "      <th>791</th>\n",
       "      <td>0f8419da-0c79-4140-9834-cf930682be2a</td>\n",
       "      <td>Person search</td>\n",
       "      <td>2019-12-06T12:30:00+00:00</td>\n",
       "      <td>True</td>\n",
       "      <td>51.916449</td>\n",
       "      <td>-0.662798</td>\n",
       "      <td>Male</td>\n",
       "      <td>under 10</td>\n",
       "      <td>White - Irish</td>\n",
       "      <td>White</td>\n",
       "      <td>Police and Criminal Evidence Act 1984 (section 1)</td>\n",
       "      <td>Article for use in theft</td>\n",
       "      <td>Community resolution</td>\n",
       "      <td>True</td>\n",
       "      <td>False</td>\n",
       "      <td>bedfordshire</td>\n",
       "    </tr>\n",
       "    <tr>\n",
       "      <th>5119</th>\n",
       "      <td>82bacd9c-c038-431d-a865-a0285efa3635</td>\n",
       "      <td>Person search</td>\n",
       "      <td>2019-12-24T19:33:00+00:00</td>\n",
       "      <td>False</td>\n",
       "      <td>52.603583</td>\n",
       "      <td>0.361754</td>\n",
       "      <td>Male</td>\n",
       "      <td>under 10</td>\n",
       "      <td>White - English/Welsh/Scottish/Northern Irish/...</td>\n",
       "      <td>White</td>\n",
       "      <td>Police and Criminal Evidence Act 1984 (section 1)</td>\n",
       "      <td>Article for use in theft</td>\n",
       "      <td>A no further action disposal</td>\n",
       "      <td>False</td>\n",
       "      <td>False</td>\n",
       "      <td>norfolk</td>\n",
       "    </tr>\n",
       "    <tr>\n",
       "      <th>5566</th>\n",
       "      <td>2dac968f-0102-4943-bba4-a3375f876c2d</td>\n",
       "      <td>Person and Vehicle search</td>\n",
       "      <td>2019-12-05T21:20:00+00:00</td>\n",
       "      <td>False</td>\n",
       "      <td>NaN</td>\n",
       "      <td>NaN</td>\n",
       "      <td>Male</td>\n",
       "      <td>under 10</td>\n",
       "      <td>White - English/Welsh/Scottish/Northern Irish/...</td>\n",
       "      <td>White</td>\n",
       "      <td>NaN</td>\n",
       "      <td>Article for use in theft</td>\n",
       "      <td>A no further action disposal</td>\n",
       "      <td>NaN</td>\n",
       "      <td>NaN</td>\n",
       "      <td>thames-valley</td>\n",
       "    </tr>\n",
       "    <tr>\n",
       "      <th>...</th>\n",
       "      <td>...</td>\n",
       "      <td>...</td>\n",
       "      <td>...</td>\n",
       "      <td>...</td>\n",
       "      <td>...</td>\n",
       "      <td>...</td>\n",
       "      <td>...</td>\n",
       "      <td>...</td>\n",
       "      <td>...</td>\n",
       "      <td>...</td>\n",
       "      <td>...</td>\n",
       "      <td>...</td>\n",
       "      <td>...</td>\n",
       "      <td>...</td>\n",
       "      <td>...</td>\n",
       "      <td>...</td>\n",
       "    </tr>\n",
       "    <tr>\n",
       "      <th>658660</th>\n",
       "      <td>d6afe90a-dedf-4732-b3ac-a910cc11f895</td>\n",
       "      <td>Person search</td>\n",
       "      <td>2018-08-09T20:11:00+00:00</td>\n",
       "      <td>False</td>\n",
       "      <td>53.579219</td>\n",
       "      <td>-2.462290</td>\n",
       "      <td>Female</td>\n",
       "      <td>under 10</td>\n",
       "      <td>White - English/Welsh/Scottish/Northern Irish/...</td>\n",
       "      <td>White</td>\n",
       "      <td>Misuse of Drugs Act 1971 (section 23)</td>\n",
       "      <td>Controlled drugs</td>\n",
       "      <td>A no further action disposal</td>\n",
       "      <td>NaN</td>\n",
       "      <td>False</td>\n",
       "      <td>greater-manchester</td>\n",
       "    </tr>\n",
       "    <tr>\n",
       "      <th>658733</th>\n",
       "      <td>a0c06e71-86a4-4870-9581-712a3e0f4102</td>\n",
       "      <td>Person and Vehicle search</td>\n",
       "      <td>2018-08-18T21:01:00+00:00</td>\n",
       "      <td>False</td>\n",
       "      <td>53.581433</td>\n",
       "      <td>-2.402079</td>\n",
       "      <td>Male</td>\n",
       "      <td>under 10</td>\n",
       "      <td>Asian/Asian British - Indian</td>\n",
       "      <td>Asian</td>\n",
       "      <td>Misuse of Drugs Act 1971 (section 23)</td>\n",
       "      <td>Controlled drugs</td>\n",
       "      <td>Community resolution</td>\n",
       "      <td>True</td>\n",
       "      <td>False</td>\n",
       "      <td>greater-manchester</td>\n",
       "    </tr>\n",
       "    <tr>\n",
       "      <th>658741</th>\n",
       "      <td>b67a2798-6e83-4bb4-8506-ed63dfd5aae8</td>\n",
       "      <td>Person search</td>\n",
       "      <td>2018-08-20T01:40:00+00:00</td>\n",
       "      <td>False</td>\n",
       "      <td>53.557421</td>\n",
       "      <td>-2.136697</td>\n",
       "      <td>Male</td>\n",
       "      <td>under 10</td>\n",
       "      <td>White - English/Welsh/Scottish/Northern Irish/...</td>\n",
       "      <td>White</td>\n",
       "      <td>Police and Criminal Evidence Act 1984 (section 1)</td>\n",
       "      <td>Article for use in theft</td>\n",
       "      <td>A no further action disposal</td>\n",
       "      <td>NaN</td>\n",
       "      <td>False</td>\n",
       "      <td>greater-manchester</td>\n",
       "    </tr>\n",
       "    <tr>\n",
       "      <th>659332</th>\n",
       "      <td>7f084687-3720-4899-9659-c254187d39dc</td>\n",
       "      <td>Person search</td>\n",
       "      <td>2018-08-27T10:15:00+00:00</td>\n",
       "      <td>NaN</td>\n",
       "      <td>51.541790</td>\n",
       "      <td>-0.002183</td>\n",
       "      <td>Male</td>\n",
       "      <td>under 10</td>\n",
       "      <td>Black/African/Caribbean/Black British - Any ot...</td>\n",
       "      <td>Black</td>\n",
       "      <td>Criminal Justice and Public Order Act 1994 (se...</td>\n",
       "      <td>Offensive weapons</td>\n",
       "      <td>A no further action disposal</td>\n",
       "      <td>True</td>\n",
       "      <td>False</td>\n",
       "      <td>btp</td>\n",
       "    </tr>\n",
       "    <tr>\n",
       "      <th>659498</th>\n",
       "      <td>cd3384bf-3a73-4e6d-8adc-e39f11d71cab</td>\n",
       "      <td>Person search</td>\n",
       "      <td>2018-08-30T18:05:00+00:00</td>\n",
       "      <td>NaN</td>\n",
       "      <td>51.541790</td>\n",
       "      <td>-0.002183</td>\n",
       "      <td>Male</td>\n",
       "      <td>under 10</td>\n",
       "      <td>Asian/Asian British - Bangladeshi</td>\n",
       "      <td>Asian</td>\n",
       "      <td>Police and Criminal Evidence Act 1984 (section 1)</td>\n",
       "      <td>Offensive weapons</td>\n",
       "      <td>Arrest</td>\n",
       "      <td>False</td>\n",
       "      <td>False</td>\n",
       "      <td>btp</td>\n",
       "    </tr>\n",
       "  </tbody>\n",
       "</table>\n",
       "<p>384 rows × 16 columns</p>\n",
       "</div>"
      ],
      "text/plain": [
       "                              observation_id                       Type  \\\n",
       "429     ea483461-7a08-4e70-aa6a-4a25e61ddef1              Person search   \n",
       "779     cfc269b8-e34d-4239-a4dc-f052b56a8022              Person search   \n",
       "791     0f8419da-0c79-4140-9834-cf930682be2a              Person search   \n",
       "5119    82bacd9c-c038-431d-a865-a0285efa3635              Person search   \n",
       "5566    2dac968f-0102-4943-bba4-a3375f876c2d  Person and Vehicle search   \n",
       "...                                      ...                        ...   \n",
       "658660  d6afe90a-dedf-4732-b3ac-a910cc11f895              Person search   \n",
       "658733  a0c06e71-86a4-4870-9581-712a3e0f4102  Person and Vehicle search   \n",
       "658741  b67a2798-6e83-4bb4-8506-ed63dfd5aae8              Person search   \n",
       "659332  7f084687-3720-4899-9659-c254187d39dc              Person search   \n",
       "659498  cd3384bf-3a73-4e6d-8adc-e39f11d71cab              Person search   \n",
       "\n",
       "                             Date Part of a policing operation   Latitude  \\\n",
       "429     2019-12-11T00:00:00+00:00                          NaN        NaN   \n",
       "779     2019-12-04T17:30:00+00:00                        False        NaN   \n",
       "791     2019-12-06T12:30:00+00:00                         True  51.916449   \n",
       "5119    2019-12-24T19:33:00+00:00                        False  52.603583   \n",
       "5566    2019-12-05T21:20:00+00:00                        False        NaN   \n",
       "...                           ...                          ...        ...   \n",
       "658660  2018-08-09T20:11:00+00:00                        False  53.579219   \n",
       "658733  2018-08-18T21:01:00+00:00                        False  53.581433   \n",
       "658741  2018-08-20T01:40:00+00:00                        False  53.557421   \n",
       "659332  2018-08-27T10:15:00+00:00                          NaN  51.541790   \n",
       "659498  2018-08-30T18:05:00+00:00                          NaN  51.541790   \n",
       "\n",
       "        Longitude  Gender Age range  \\\n",
       "429           NaN    Male  under 10   \n",
       "779           NaN  Female  under 10   \n",
       "791     -0.662798    Male  under 10   \n",
       "5119     0.361754    Male  under 10   \n",
       "5566          NaN    Male  under 10   \n",
       "...           ...     ...       ...   \n",
       "658660  -2.462290  Female  under 10   \n",
       "658733  -2.402079    Male  under 10   \n",
       "658741  -2.136697    Male  under 10   \n",
       "659332  -0.002183    Male  under 10   \n",
       "659498  -0.002183    Male  under 10   \n",
       "\n",
       "                                   Self-defined ethnicity  \\\n",
       "429     White - English/Welsh/Scottish/Northern Irish/...   \n",
       "779                    White - Any other White background   \n",
       "791                                         White - Irish   \n",
       "5119    White - English/Welsh/Scottish/Northern Irish/...   \n",
       "5566    White - English/Welsh/Scottish/Northern Irish/...   \n",
       "...                                                   ...   \n",
       "658660  White - English/Welsh/Scottish/Northern Irish/...   \n",
       "658733                       Asian/Asian British - Indian   \n",
       "658741  White - English/Welsh/Scottish/Northern Irish/...   \n",
       "659332  Black/African/Caribbean/Black British - Any ot...   \n",
       "659498                  Asian/Asian British - Bangladeshi   \n",
       "\n",
       "       Officer-defined ethnicity  \\\n",
       "429                        White   \n",
       "779                        White   \n",
       "791                        White   \n",
       "5119                       White   \n",
       "5566                       White   \n",
       "...                          ...   \n",
       "658660                     White   \n",
       "658733                     Asian   \n",
       "658741                     White   \n",
       "659332                     Black   \n",
       "659498                     Asian   \n",
       "\n",
       "                                              Legislation  \\\n",
       "429                 Misuse of Drugs Act 1971 (section 23)   \n",
       "779     Police and Criminal Evidence Act 1984 (section 1)   \n",
       "791     Police and Criminal Evidence Act 1984 (section 1)   \n",
       "5119    Police and Criminal Evidence Act 1984 (section 1)   \n",
       "5566                                                  NaN   \n",
       "...                                                   ...   \n",
       "658660              Misuse of Drugs Act 1971 (section 23)   \n",
       "658733              Misuse of Drugs Act 1971 (section 23)   \n",
       "658741  Police and Criminal Evidence Act 1984 (section 1)   \n",
       "659332  Criminal Justice and Public Order Act 1994 (se...   \n",
       "659498  Police and Criminal Evidence Act 1984 (section 1)   \n",
       "\n",
       "                Object of search                       Outcome  \\\n",
       "429             Controlled drugs  A no further action disposal   \n",
       "779                 Stolen goods  A no further action disposal   \n",
       "791     Article for use in theft          Community resolution   \n",
       "5119    Article for use in theft  A no further action disposal   \n",
       "5566    Article for use in theft  A no further action disposal   \n",
       "...                          ...                           ...   \n",
       "658660          Controlled drugs  A no further action disposal   \n",
       "658733          Controlled drugs          Community resolution   \n",
       "658741  Article for use in theft  A no further action disposal   \n",
       "659332         Offensive weapons  A no further action disposal   \n",
       "659498         Offensive weapons                        Arrest   \n",
       "\n",
       "       Outcome linked to object of search  \\\n",
       "429                                   NaN   \n",
       "779                                   NaN   \n",
       "791                                  True   \n",
       "5119                                False   \n",
       "5566                                  NaN   \n",
       "...                                   ...   \n",
       "658660                                NaN   \n",
       "658733                               True   \n",
       "658741                                NaN   \n",
       "659332                               True   \n",
       "659498                              False   \n",
       "\n",
       "       Removal of more than just outer clothing             station  \n",
       "429                                       False         dyfed-powys  \n",
       "779                                       False        bedfordshire  \n",
       "791                                       False        bedfordshire  \n",
       "5119                                      False             norfolk  \n",
       "5566                                        NaN       thames-valley  \n",
       "...                                         ...                 ...  \n",
       "658660                                    False  greater-manchester  \n",
       "658733                                    False  greater-manchester  \n",
       "658741                                    False  greater-manchester  \n",
       "659332                                    False                 btp  \n",
       "659498                                    False                 btp  \n",
       "\n",
       "[384 rows x 16 columns]"
      ]
     },
     "execution_count": 35,
     "metadata": {},
     "output_type": "execute_result"
    }
   ],
   "source": [
    "df.loc[df['Age range']=='under 10',:]"
   ]
  },
  {
   "cell_type": "code",
   "execution_count": 36,
   "id": "infrared-fireplace",
   "metadata": {},
   "outputs": [
    {
     "data": {
      "text/plain": [
       "A no further action disposal                    284\n",
       "Arrest                                           31\n",
       "Community resolution                             21\n",
       "Nothing found - no further action                15\n",
       "Khat or Cannabis warning                         14\n",
       "Summons / charged by post                         5\n",
       "Penalty Notice for Disorder                       4\n",
       "Local resolution                                  3\n",
       "Caution (simple or conditional)                   3\n",
       "Suspect arrested                                  2\n",
       "Article found - Detailed outcome unavailable      1\n",
       "Offender given drugs possession warning           1\n",
       "Name: Outcome, dtype: int64"
      ]
     },
     "execution_count": 36,
     "metadata": {},
     "output_type": "execute_result"
    }
   ],
   "source": [
    "df.loc[df['Age range']=='under 10',:].Outcome.value_counts()"
   ]
  },
  {
   "cell_type": "code",
   "execution_count": 37,
   "id": "virgin-green",
   "metadata": {},
   "outputs": [],
   "source": [
    "#Comment: The number of under 10 is very low(384) and among them 284 person are inocent. \n",
    "#It will effect on the analysis later on. There is bias in the date "
   ]
  },
  {
   "cell_type": "markdown",
   "id": "placed-darkness",
   "metadata": {},
   "source": [
    "Self-defined ethnicity"
   ]
  },
  {
   "cell_type": "code",
   "execution_count": 38,
   "id": "clear-barrier",
   "metadata": {},
   "outputs": [
    {
     "data": {
      "text/plain": [
       "White - English/Welsh/Scottish/Northern Irish/British                                   272053\n",
       "Other ethnic group - Not stated                                                          86421\n",
       "White - Any other White background                                                       57875\n",
       "Black/African/Caribbean/Black British - Any other Black/African/Caribbean background     54036\n",
       "Black/African/Caribbean/Black British - African                                          43297\n",
       "Black/African/Caribbean/Black British - Caribbean                                        31315\n",
       "Asian/Asian British - Any other Asian background                                         29169\n",
       "Asian/Asian British - Bangladeshi                                                        17083\n",
       "Asian/Asian British - Pakistani                                                          15720\n",
       "Other ethnic group - Any other ethnic group                                              11276\n",
       "Mixed/Multiple ethnic groups - Any other Mixed/Multiple ethnic background                 9601\n",
       "Asian/Asian British - Indian                                                              8191\n",
       "Mixed/Multiple ethnic groups - White and Black Caribbean                                  7701\n",
       "White - Irish                                                                             5059\n",
       "Mixed/Multiple ethnic groups - White and Black African                                    2442\n",
       "Mixed/Multiple ethnic groups - White and Asian                                            2025\n",
       "Asian/Asian British - Chinese                                                              929\n",
       "White - Gypsy or Irish Traveller                                                           755\n",
       "Other ethnic group - Arab                                                                   89\n",
       "Name: Self-defined ethnicity, dtype: int64"
      ]
     },
     "execution_count": 38,
     "metadata": {},
     "output_type": "execute_result"
    }
   ],
   "source": [
    "df['Self-defined ethnicity'].value_counts()"
   ]
  },
  {
   "cell_type": "code",
   "execution_count": 39,
   "id": "racial-pierce",
   "metadata": {},
   "outputs": [
    {
     "data": {
      "text/plain": [
       "5574"
      ]
     },
     "execution_count": 39,
     "metadata": {},
     "output_type": "execute_result"
    }
   ],
   "source": [
    "df['Self-defined ethnicity'].isnull().sum()"
   ]
  },
  {
   "cell_type": "code",
   "execution_count": 40,
   "id": "unexpected-baptist",
   "metadata": {},
   "outputs": [
    {
     "data": {
      "text/plain": [
       "<AxesSubplot:>"
      ]
     },
     "execution_count": 40,
     "metadata": {},
     "output_type": "execute_result"
    },
    {
     "data": {
      "image/png": "[encoded data removed]",
      "text/plain": [
       "<Figure size 432x288 with 1 Axes>"
      ]
     },
     "metadata": {
      "needs_background": "light"
     },
     "output_type": "display_data"
    }
   ],
   "source": [
    "df['Self-defined ethnicity'].hist()"
   ]
  },
  {
   "cell_type": "code",
   "execution_count": 41,
   "id": "dynamic-potter",
   "metadata": {},
   "outputs": [
    {
     "name": "stdout",
     "output_type": "stream",
     "text": [
      "the number of blacks in Self-defined ethnicity is :128648\n"
     ]
    }
   ],
   "source": [
    "B = df['Self-defined ethnicity'].value_counts().values[3]+df['Self-defined ethnicity'].value_counts().values[4]+df['Self-defined ethnicity'].value_counts().values[5]\n",
    "print(\"the number of blacks in Self-defined ethnicity is :{}\".format(B))"
   ]
  },
  {
   "cell_type": "code",
   "execution_count": 42,
   "id": "confirmed-sphere",
   "metadata": {},
   "outputs": [
    {
     "name": "stdout",
     "output_type": "stream",
     "text": [
      "the number of whites in Self-defined ethnicity is :335742\n"
     ]
    }
   ],
   "source": [
    "W = df['Self-defined ethnicity'].value_counts().values[0]+df['Self-defined ethnicity'].value_counts().values[2]+df['Self-defined ethnicity'].value_counts().values[13]+df['Self-defined ethnicity'].value_counts().values[17]\n",
    "print(\"the number of whites in Self-defined ethnicity is :{}\".format(W))"
   ]
  },
  {
   "cell_type": "code",
   "execution_count": 43,
   "id": "greenhouse-blank",
   "metadata": {},
   "outputs": [
    {
     "name": "stdout",
     "output_type": "stream",
     "text": [
      "the number of asians in Self-defined ethnicity is :71092\n"
     ]
    }
   ],
   "source": [
    "A = df['Self-defined ethnicity'].value_counts().values[6]+df['Self-defined ethnicity'].value_counts().values[7]+df['Self-defined ethnicity'].value_counts().values[8]+df['Self-defined ethnicity'].value_counts().values[11]+df['Self-defined ethnicity'].value_counts().values[16]\n",
    "print(\"the number of asians in Self-defined ethnicity is :{}\".format(A))"
   ]
  },
  {
   "cell_type": "code",
   "execution_count": 44,
   "id": "western-contractor",
   "metadata": {},
   "outputs": [],
   "source": [
    "#It has 5574 null and presenting this column will not effect on the analysis we just use officer defined etnicity\n",
    "#Decision: remove self defined ethnicity"
   ]
  },
  {
   "cell_type": "markdown",
   "id": "coupled-framework",
   "metadata": {},
   "source": [
    "Officer-defined ethnicity"
   ]
  },
  {
   "cell_type": "code",
   "execution_count": 45,
   "id": "qualified-inspector",
   "metadata": {},
   "outputs": [
    {
     "data": {
      "text/plain": [
       "White    378311\n",
       "Black    174593\n",
       "Asian     86035\n",
       "Other     19842\n",
       "Mixed      1830\n",
       "Name: Officer-defined ethnicity, dtype: int64"
      ]
     },
     "execution_count": 45,
     "metadata": {},
     "output_type": "execute_result"
    }
   ],
   "source": [
    "df['Officer-defined ethnicity'].value_counts()"
   ]
  },
  {
   "cell_type": "code",
   "execution_count": 46,
   "id": "quiet-canberra",
   "metadata": {},
   "outputs": [
    {
     "data": {
      "text/plain": [
       "Text(0, 0.5, 'Count')"
      ]
     },
     "execution_count": 46,
     "metadata": {},
     "output_type": "execute_result"
    },
    {
     "data": {
      "image/png": "[encoded data removed]",
      "text/plain": [
       "<Figure size 432x288 with 1 Axes>"
      ]
     },
     "metadata": {
      "needs_background": "light"
     },
     "output_type": "display_data"
    }
   ],
   "source": [
    "df['Officer-defined ethnicity'].hist()\n",
    "plt.xlabel('Officer-defined ethnicity')\n",
    "plt.ylabel('Count')"
   ]
  },
  {
   "cell_type": "code",
   "execution_count": 47,
   "id": "progressive-meaning",
   "metadata": {},
   "outputs": [],
   "source": [
    "#Comment:Mixed is bias I need to do something for that. Other also is bias."
   ]
  },
  {
   "cell_type": "markdown",
   "id": "auburn-discovery",
   "metadata": {},
   "source": [
    "Legislation"
   ]
  },
  {
   "cell_type": "code",
   "execution_count": 48,
   "id": "instrumental-dressing",
   "metadata": {},
   "outputs": [
    {
     "data": {
      "text/plain": [
       "Misuse of Drugs Act 1971 (section 23)                      385307\n",
       "Police and Criminal Evidence Act 1984 (section 1)          224682\n",
       "Criminal Justice and Public Order Act 1994 (section 60)     17259\n",
       "Firearms Act 1968 (section 47)                               4352\n",
       "Criminal Justice Act 1988 (section 139B)                      746\n",
       "Poaching Prevention Act 1862 (section 2)                      152\n",
       "Psychoactive Substances Act 2016 (s36(2))                      90\n",
       "Wildlife and Countryside Act 1981 (section 19)                 31\n",
       "Police and Criminal Evidence Act 1984 (section 6)              15\n",
       "Aviation Security Act 1982 (section 27(1))                     11\n",
       "Customs and Excise Management Act 1979 (section 163)           10\n",
       "Crossbows Act 1987 (section 4)                                  5\n",
       "Protection of Badgers Act 1992 (section 11)                     4\n",
       "Psychoactive Substances Act 2016 (s37(2))                       4\n",
       "Public Stores Act 1875 (section 6)                              1\n",
       "Deer Act 1991 (section 12)                                      1\n",
       "Conservation of Seals Act 1970 (section 4)                      1\n",
       "Name: Legislation, dtype: int64"
      ]
     },
     "execution_count": 48,
     "metadata": {},
     "output_type": "execute_result"
    }
   ],
   "source": [
    "df['Legislation'].value_counts()"
   ]
  },
  {
   "cell_type": "code",
   "execution_count": 49,
   "id": "grave-director",
   "metadata": {},
   "outputs": [],
   "source": [
    "#One hot encoder\n",
    "# remove under 10 values"
   ]
  },
  {
   "cell_type": "markdown",
   "id": "contained-female",
   "metadata": {},
   "source": [
    "Object of search"
   ]
  },
  {
   "cell_type": "code",
   "execution_count": 50,
   "id": "thermal-treatment",
   "metadata": {},
   "outputs": [
    {
     "data": {
      "text/plain": [
       "Controlled drugs                              398873\n",
       "Offensive weapons                             102107\n",
       "Stolen goods                                   67636\n",
       "Article for use in theft                       30836\n",
       "Evidence of offences under the Act             19911\n",
       "Anything to threaten or harm anyone            19762\n",
       "Articles for use in criminal damage            11060\n",
       "Firearms                                        5479\n",
       "Fireworks                                       2948\n",
       "Psychoactive substances                         1701\n",
       "Detailed object of search unavailable            129\n",
       "Game or poaching equipment                       102\n",
       "Evidence of wildlife offences                     25\n",
       "Goods on which duty has not been paid etc.        23\n",
       "Crossbows                                         17\n",
       "Seals or hunting equipment                         2\n",
       "Name: Object of search, dtype: int64"
      ]
     },
     "execution_count": 50,
     "metadata": {},
     "output_type": "execute_result"
    }
   ],
   "source": [
    "df['Object of search'].value_counts()"
   ]
  },
  {
   "cell_type": "code",
   "execution_count": 51,
   "id": "modified-casino",
   "metadata": {},
   "outputs": [],
   "source": [
    "#one hot encoder we will use"
   ]
  },
  {
   "cell_type": "markdown",
   "id": "alien-updating",
   "metadata": {},
   "source": [
    "Outcome"
   ]
  },
  {
   "cell_type": "code",
   "execution_count": 52,
   "id": "alpha-compromise",
   "metadata": {},
   "outputs": [
    {
     "data": {
      "text/plain": [
       "A no further action disposal                                    455342\n",
       "Arrest                                                           94118\n",
       "Community resolution                                             41311\n",
       "Khat or Cannabis warning                                         17173\n",
       "Nothing found - no further action                                16188\n",
       "Summons / charged by post                                        12232\n",
       "Penalty Notice for Disorder                                      11214\n",
       "Suspect arrested                                                  4649\n",
       "Caution (simple or conditional)                                   3179\n",
       "Offender given drugs possession warning                           2102\n",
       "Local resolution                                                  1333\n",
       "Suspect summonsed to court                                         636\n",
       "Article found - Detailed outcome unavailable                       524\n",
       "Offender given penalty notice                                      414\n",
       "Offender cautioned                                                 189\n",
       "Suspected psychoactive substances seized - No further action         7\n",
       "Name: Outcome, dtype: int64"
      ]
     },
     "execution_count": 52,
     "metadata": {},
     "output_type": "execute_result"
    }
   ],
   "source": [
    "df['Outcome'].value_counts()"
   ]
  },
  {
   "cell_type": "code",
   "execution_count": 53,
   "id": "driven-reporter",
   "metadata": {},
   "outputs": [
    {
     "name": "stdout",
     "output_type": "stream",
     "text": [
      "The totall number of no action after searching is:471530\n"
     ]
    }
   ],
   "source": [
    " print(\"The totall number of no action after searching is:{}\".format(df['Outcome'].value_counts()[0]+df['Outcome'].value_counts()[4]))"
   ]
  },
  {
   "cell_type": "code",
   "execution_count": 54,
   "id": "tamil-pontiac",
   "metadata": {},
   "outputs": [],
   "source": [
    "#We built our target according to this so it will be removed form analysis"
   ]
  },
  {
   "cell_type": "markdown",
   "id": "beneficial-quality",
   "metadata": {},
   "source": [
    "Outcome linked to object of search\n"
   ]
  },
  {
   "cell_type": "code",
   "execution_count": 55,
   "id": "independent-cinema",
   "metadata": {},
   "outputs": [
    {
     "data": {
      "text/plain": [
       "True     100273\n",
       "False     87238\n",
       "Name: Outcome linked to object of search, dtype: int64"
      ]
     },
     "execution_count": 55,
     "metadata": {},
     "output_type": "execute_result"
    }
   ],
   "source": [
    "df['Outcome linked to object of search'].value_counts()"
   ]
  },
  {
   "cell_type": "code",
   "execution_count": 56,
   "id": "electrical-offering",
   "metadata": {},
   "outputs": [
    {
     "data": {
      "text/plain": [
       "473100"
      ]
     },
     "execution_count": 56,
     "metadata": {},
     "output_type": "execute_result"
    }
   ],
   "source": [
    "df['Outcome linked to object of search'].isnull().sum()"
   ]
  },
  {
   "cell_type": "code",
   "execution_count": 57,
   "id": "manual-morris",
   "metadata": {},
   "outputs": [
    {
     "data": {
      "text/plain": [
       "array([nan, True, False], dtype=object)"
      ]
     },
     "execution_count": 57,
     "metadata": {},
     "output_type": "execute_result"
    }
   ],
   "source": [
    "df['Outcome linked to object of search'].unique()"
   ]
  },
  {
   "cell_type": "code",
   "execution_count": 58,
   "id": "turkish-thirty",
   "metadata": {},
   "outputs": [
    {
     "data": {
      "text/plain": [
       "Text(0, 0.5, 'Count')"
      ]
     },
     "execution_count": 58,
     "metadata": {},
     "output_type": "execute_result"
    },
    {
     "data": {
      "image/png": "[encoded data removed]",
      "text/plain": [
       "<Figure size 432x288 with 1 Axes>"
      ]
     },
     "metadata": {
      "needs_background": "light"
     },
     "output_type": "display_data"
    }
   ],
   "source": [
    "df['Outcome linked to object of search'].value_counts().plot.bar()\n",
    "plt.xlabel('Outcome linked to object of search')\n",
    "plt.ylabel('Count')"
   ]
  },
  {
   "cell_type": "markdown",
   "id": "concerned-turner",
   "metadata": {},
   "source": [
    "Removal of more than just outer clothing"
   ]
  },
  {
   "cell_type": "code",
   "execution_count": 59,
   "id": "communist-actor",
   "metadata": {},
   "outputs": [
    {
     "name": "stdout",
     "output_type": "stream",
     "text": [
      "The number of nan vaues in the 'Outcome linked to object of search' column is :473100\n"
     ]
    }
   ],
   "source": [
    "print(\"The number of nan vaues in the 'Outcome linked to object of search' column is :{}\".format(df['Outcome linked to object of search'].isnull().sum()))"
   ]
  },
  {
   "cell_type": "code",
   "execution_count": 60,
   "id": "young-pocket",
   "metadata": {},
   "outputs": [],
   "source": [
    "#Decision: This column will be considered by target the target is true if this column related to search object is true and \n",
    "#outcome be  Local resolution\n",
    "#Community resolution\n",
    "#Offender given drugs possession warning\n",
    "#Khat or Cannabis warning\n",
    "#Caution (simple or conditional)\n",
    "#Offender given penalty notice\n",
    "#Arrest\n",
    "#Penalty Notice for Disorder\n",
    "#Suspected psychoactive substances seized - No further action\n",
    "#Summons / charged by post\n",
    "#Article found - Detailed outcome unavailable\n",
    "#Offender cautioned\n",
    "#Suspect arrested\n",
    "#Suspect summonsed to court\n"
   ]
  },
  {
   "cell_type": "markdown",
   "id": "retained-movie",
   "metadata": {},
   "source": [
    "Removal of more than just outer clothing"
   ]
  },
  {
   "cell_type": "code",
   "execution_count": 61,
   "id": "wired-plaintiff",
   "metadata": {},
   "outputs": [
    {
     "data": {
      "text/plain": [
       "426549"
      ]
     },
     "execution_count": 61,
     "metadata": {},
     "output_type": "execute_result"
    }
   ],
   "source": [
    "df['Removal of more than just outer clothing'].isnull().sum()"
   ]
  },
  {
   "cell_type": "code",
   "execution_count": 62,
   "id": "british-maple",
   "metadata": {},
   "outputs": [
    {
     "data": {
      "text/plain": [
       "array([False, True, nan], dtype=object)"
      ]
     },
     "execution_count": 62,
     "metadata": {},
     "output_type": "execute_result"
    }
   ],
   "source": [
    "df['Removal of more than just outer clothing'].unique()"
   ]
  },
  {
   "cell_type": "code",
   "execution_count": 63,
   "id": "congressional-double",
   "metadata": {},
   "outputs": [
    {
     "data": {
      "text/plain": [
       "False    223397\n",
       "True      10665\n",
       "Name: Removal of more than just outer clothing, dtype: int64"
      ]
     },
     "execution_count": 63,
     "metadata": {},
     "output_type": "execute_result"
    }
   ],
   "source": [
    "df['Removal of more than just outer clothing'].value_counts()"
   ]
  },
  {
   "cell_type": "code",
   "execution_count": 64,
   "id": "executive-ontario",
   "metadata": {},
   "outputs": [
    {
     "data": {
      "text/plain": [
       "Text(0, 0.5, 'Count')"
      ]
     },
     "execution_count": 64,
     "metadata": {},
     "output_type": "execute_result"
    },
    {
     "data": {
      "image/png": "[encoded data removed]",
      "text/plain": [
       "<Figure size 432x288 with 1 Axes>"
      ]
     },
     "metadata": {
      "needs_background": "light"
     },
     "output_type": "display_data"
    }
   ],
   "source": [
    "#information of this column is  baias\n",
    "df['Removal of more than just outer clothing'].value_counts().plot.bar()\n",
    "plt.xlabel('Removal of more than just outer clothing')\n",
    "plt.ylabel('Count')"
   ]
  },
  {
   "cell_type": "code",
   "execution_count": 65,
   "id": "super-cookbook",
   "metadata": {},
   "outputs": [],
   "source": [
    "#Bias how we could decide according to this value will be difficult."
   ]
  },
  {
   "cell_type": "markdown",
   "id": "exposed-fancy",
   "metadata": {},
   "source": [
    "Station"
   ]
  },
  {
   "cell_type": "code",
   "execution_count": 66,
   "id": "planned-overview",
   "metadata": {},
   "outputs": [
    {
     "data": {
      "text/plain": [
       "metropolitan          351294\n",
       "merseyside             41597\n",
       "essex                  19039\n",
       "thames-valley          17898\n",
       "west-yorkshire         17144\n",
       "hampshire              13963\n",
       "hertfordshire          13328\n",
       "kent                   13309\n",
       "south-yorkshire        13165\n",
       "surrey                 10972\n",
       "avon-and-somerset      10015\n",
       "btp                     9555\n",
       "lancashire              9154\n",
       "west-mercia             7904\n",
       "devon-and-cornwall      7569\n",
       "staffordshire           7318\n",
       "nottinghamshire         7103\n",
       "northumbria             7049\n",
       "sussex                  6941\n",
       "north-wales             5215\n",
       "lincolnshire            5047\n",
       "leicestershire          4980\n",
       "greater-manchester      4851\n",
       "cheshire                4845\n",
       "norfolk                 4779\n",
       "dyfed-powys             4315\n",
       "bedfordshire            4209\n",
       "humberside              3783\n",
       "city-of-london          3575\n",
       "northamptonshire        3526\n",
       "suffolk                 3355\n",
       "warwickshire            3249\n",
       "gloucestershire         2871\n",
       "derbyshire              2852\n",
       "dorset                  2825\n",
       "durham                  2778\n",
       "north-yorkshire         2234\n",
       "cumbria                 2129\n",
       "cleveland               1872\n",
       "wiltshire               1355\n",
       "cambridgeshire           877\n",
       "gwent                    772\n",
       "Name: station, dtype: int64"
      ]
     },
     "execution_count": 66,
     "metadata": {},
     "output_type": "execute_result"
    }
   ],
   "source": [
    "df['station'].value_counts()"
   ]
  },
  {
   "cell_type": "code",
   "execution_count": 67,
   "id": "protecting-fitness",
   "metadata": {},
   "outputs": [
    {
     "data": {
      "text/plain": [
       "42"
      ]
     },
     "execution_count": 67,
     "metadata": {},
     "output_type": "execute_result"
    }
   ],
   "source": [
    "len(df['station'].unique())"
   ]
  },
  {
   "cell_type": "code",
   "execution_count": 68,
   "id": "brazilian-baseball",
   "metadata": {},
   "outputs": [],
   "source": [
    "#Keep the station"
   ]
  },
  {
   "cell_type": "markdown",
   "id": "standard-scottish",
   "metadata": {},
   "source": [
    "# Target Built(From Outcome)"
   ]
  },
  {
   "cell_type": "code",
   "execution_count": 69,
   "id": "charming-knitting",
   "metadata": {},
   "outputs": [
    {
     "data": {
      "text/plain": [
       "array(['A no further action disposal', 'Arrest', 'Community resolution',\n",
       "       'Summons / charged by post', 'Khat or Cannabis warning',\n",
       "       'Caution (simple or conditional)', 'Penalty Notice for Disorder',\n",
       "       'Nothing found - no further action',\n",
       "       'Offender given drugs possession warning', 'Local resolution',\n",
       "       'Suspect arrested', 'Article found - Detailed outcome unavailable',\n",
       "       'Offender cautioned', 'Suspect summonsed to court',\n",
       "       'Offender given penalty notice',\n",
       "       'Suspected psychoactive substances seized - No further action'],\n",
       "      dtype=object)"
      ]
     },
     "execution_count": 69,
     "metadata": {},
     "output_type": "execute_result"
    }
   ],
   "source": [
    "df['Outcome'].unique()"
   ]
  },
  {
   "cell_type": "code",
   "execution_count": 70,
   "id": "instrumental-chorus",
   "metadata": {},
   "outputs": [
    {
     "data": {
      "text/html": [
       "<div>\n",
       "<style scoped>\n",
       "    .dataframe tbody tr th:only-of-type {\n",
       "        vertical-align: middle;\n",
       "    }\n",
       "\n",
       "    .dataframe tbody tr th {\n",
       "        vertical-align: top;\n",
       "    }\n",
       "\n",
       "    .dataframe thead th {\n",
       "        text-align: right;\n",
       "    }\n",
       "</style>\n",
       "<table border=\"1\" class=\"dataframe\">\n",
       "  <thead>\n",
       "    <tr style=\"text-align: right;\">\n",
       "      <th></th>\n",
       "      <th>observation_id</th>\n",
       "      <th>Type</th>\n",
       "      <th>Date</th>\n",
       "      <th>Part of a policing operation</th>\n",
       "      <th>Latitude</th>\n",
       "      <th>Longitude</th>\n",
       "      <th>Gender</th>\n",
       "      <th>Age range</th>\n",
       "      <th>Self-defined ethnicity</th>\n",
       "      <th>Officer-defined ethnicity</th>\n",
       "      <th>Legislation</th>\n",
       "      <th>Object of search</th>\n",
       "      <th>Outcome</th>\n",
       "      <th>Outcome linked to object of search</th>\n",
       "      <th>Removal of more than just outer clothing</th>\n",
       "      <th>station</th>\n",
       "      <th>target</th>\n",
       "    </tr>\n",
       "  </thead>\n",
       "  <tbody>\n",
       "    <tr>\n",
       "      <th>0</th>\n",
       "      <td>34d76816-cfc2-4bdd-b3a2-bf0c40b12689</td>\n",
       "      <td>Person search</td>\n",
       "      <td>2019-12-01T00:00:00+00:00</td>\n",
       "      <td>True</td>\n",
       "      <td>NaN</td>\n",
       "      <td>NaN</td>\n",
       "      <td>Male</td>\n",
       "      <td>18-24</td>\n",
       "      <td>Asian/Asian British - Any other Asian background</td>\n",
       "      <td>Asian</td>\n",
       "      <td>Misuse of Drugs Act 1971 (section 23)</td>\n",
       "      <td>Controlled drugs</td>\n",
       "      <td>A no further action disposal</td>\n",
       "      <td>NaN</td>\n",
       "      <td>False</td>\n",
       "      <td>devon-and-cornwall</td>\n",
       "      <td>False</td>\n",
       "    </tr>\n",
       "    <tr>\n",
       "      <th>1</th>\n",
       "      <td>83c87ec1-e6d4-4bbb-8e0c-159516706359</td>\n",
       "      <td>Person search</td>\n",
       "      <td>2019-12-01T00:09:00+00:00</td>\n",
       "      <td>True</td>\n",
       "      <td>NaN</td>\n",
       "      <td>NaN</td>\n",
       "      <td>Male</td>\n",
       "      <td>18-24</td>\n",
       "      <td>NaN</td>\n",
       "      <td>White</td>\n",
       "      <td>Misuse of Drugs Act 1971 (section 23)</td>\n",
       "      <td>Controlled drugs</td>\n",
       "      <td>A no further action disposal</td>\n",
       "      <td>NaN</td>\n",
       "      <td>False</td>\n",
       "      <td>devon-and-cornwall</td>\n",
       "      <td>False</td>\n",
       "    </tr>\n",
       "    <tr>\n",
       "      <th>2</th>\n",
       "      <td>8c2eae4b-035a-492f-92d6-cd27e6c900a1</td>\n",
       "      <td>Person search</td>\n",
       "      <td>2019-12-01T00:10:00+00:00</td>\n",
       "      <td>True</td>\n",
       "      <td>NaN</td>\n",
       "      <td>NaN</td>\n",
       "      <td>Female</td>\n",
       "      <td>18-24</td>\n",
       "      <td>White - English/Welsh/Scottish/Northern Irish/...</td>\n",
       "      <td>White</td>\n",
       "      <td>Misuse of Drugs Act 1971 (section 23)</td>\n",
       "      <td>Controlled drugs</td>\n",
       "      <td>A no further action disposal</td>\n",
       "      <td>NaN</td>\n",
       "      <td>False</td>\n",
       "      <td>devon-and-cornwall</td>\n",
       "      <td>False</td>\n",
       "    </tr>\n",
       "    <tr>\n",
       "      <th>3</th>\n",
       "      <td>e63a036a-a728-4efe-8e08-7198f56d6d0a</td>\n",
       "      <td>Person search</td>\n",
       "      <td>2019-12-01T00:10:00+00:00</td>\n",
       "      <td>False</td>\n",
       "      <td>NaN</td>\n",
       "      <td>NaN</td>\n",
       "      <td>Male</td>\n",
       "      <td>18-24</td>\n",
       "      <td>NaN</td>\n",
       "      <td>Asian</td>\n",
       "      <td>Misuse of Drugs Act 1971 (section 23)</td>\n",
       "      <td>Controlled drugs</td>\n",
       "      <td>A no further action disposal</td>\n",
       "      <td>NaN</td>\n",
       "      <td>False</td>\n",
       "      <td>devon-and-cornwall</td>\n",
       "      <td>False</td>\n",
       "    </tr>\n",
       "    <tr>\n",
       "      <th>4</th>\n",
       "      <td>40c70aca-1f7f-4efe-8c5b-ade0f2e9937d</td>\n",
       "      <td>Person search</td>\n",
       "      <td>2019-12-01T00:12:00+00:00</td>\n",
       "      <td>True</td>\n",
       "      <td>50.368247</td>\n",
       "      <td>-4.126646</td>\n",
       "      <td>Male</td>\n",
       "      <td>18-24</td>\n",
       "      <td>NaN</td>\n",
       "      <td>White</td>\n",
       "      <td>Misuse of Drugs Act 1971 (section 23)</td>\n",
       "      <td>Controlled drugs</td>\n",
       "      <td>A no further action disposal</td>\n",
       "      <td>NaN</td>\n",
       "      <td>False</td>\n",
       "      <td>devon-and-cornwall</td>\n",
       "      <td>False</td>\n",
       "    </tr>\n",
       "    <tr>\n",
       "      <th>...</th>\n",
       "      <td>...</td>\n",
       "      <td>...</td>\n",
       "      <td>...</td>\n",
       "      <td>...</td>\n",
       "      <td>...</td>\n",
       "      <td>...</td>\n",
       "      <td>...</td>\n",
       "      <td>...</td>\n",
       "      <td>...</td>\n",
       "      <td>...</td>\n",
       "      <td>...</td>\n",
       "      <td>...</td>\n",
       "      <td>...</td>\n",
       "      <td>...</td>\n",
       "      <td>...</td>\n",
       "      <td>...</td>\n",
       "      <td>...</td>\n",
       "    </tr>\n",
       "    <tr>\n",
       "      <th>660606</th>\n",
       "      <td>a23dc59d-29fe-48e5-b012-81feb6acfddf</td>\n",
       "      <td>Person search</td>\n",
       "      <td>2018-08-29T02:45:00+00:00</td>\n",
       "      <td>NaN</td>\n",
       "      <td>NaN</td>\n",
       "      <td>NaN</td>\n",
       "      <td>Male</td>\n",
       "      <td>18-24</td>\n",
       "      <td>White - English/Welsh/Scottish/Northern Irish/...</td>\n",
       "      <td>White</td>\n",
       "      <td>Misuse of Drugs Act 1971 (section 23)</td>\n",
       "      <td>Controlled drugs</td>\n",
       "      <td>A no further action disposal</td>\n",
       "      <td>NaN</td>\n",
       "      <td>NaN</td>\n",
       "      <td>wiltshire</td>\n",
       "      <td>False</td>\n",
       "    </tr>\n",
       "    <tr>\n",
       "      <th>660607</th>\n",
       "      <td>425fde18-f7d5-4ebe-baf4-714cadd5a445</td>\n",
       "      <td>Person and Vehicle search</td>\n",
       "      <td>2018-08-29T21:00:00+00:00</td>\n",
       "      <td>False</td>\n",
       "      <td>51.540219</td>\n",
       "      <td>-1.764708</td>\n",
       "      <td>Male</td>\n",
       "      <td>18-24</td>\n",
       "      <td>White - English/Welsh/Scottish/Northern Irish/...</td>\n",
       "      <td>White</td>\n",
       "      <td>Misuse of Drugs Act 1971 (section 23)</td>\n",
       "      <td>Controlled drugs</td>\n",
       "      <td>Penalty Notice for Disorder</td>\n",
       "      <td>True</td>\n",
       "      <td>False</td>\n",
       "      <td>wiltshire</td>\n",
       "      <td>True</td>\n",
       "    </tr>\n",
       "    <tr>\n",
       "      <th>660608</th>\n",
       "      <td>7c249ab7-d4bf-47ef-86bd-aad51d7d2aab</td>\n",
       "      <td>Person search</td>\n",
       "      <td>2018-08-29T21:10:00+00:00</td>\n",
       "      <td>False</td>\n",
       "      <td>51.540219</td>\n",
       "      <td>-1.764708</td>\n",
       "      <td>Male</td>\n",
       "      <td>18-24</td>\n",
       "      <td>White - English/Welsh/Scottish/Northern Irish/...</td>\n",
       "      <td>White</td>\n",
       "      <td>Misuse of Drugs Act 1971 (section 23)</td>\n",
       "      <td>Controlled drugs</td>\n",
       "      <td>A no further action disposal</td>\n",
       "      <td>NaN</td>\n",
       "      <td>False</td>\n",
       "      <td>wiltshire</td>\n",
       "      <td>False</td>\n",
       "    </tr>\n",
       "    <tr>\n",
       "      <th>660609</th>\n",
       "      <td>4fa54513-20c4-4a53-a5db-8a4bb85b1e32</td>\n",
       "      <td>Person search</td>\n",
       "      <td>2018-08-29T21:15:00+00:00</td>\n",
       "      <td>False</td>\n",
       "      <td>51.540219</td>\n",
       "      <td>-1.764708</td>\n",
       "      <td>Male</td>\n",
       "      <td>18-24</td>\n",
       "      <td>White - English/Welsh/Scottish/Northern Irish/...</td>\n",
       "      <td>White</td>\n",
       "      <td>Misuse of Drugs Act 1971 (section 23)</td>\n",
       "      <td>Controlled drugs</td>\n",
       "      <td>A no further action disposal</td>\n",
       "      <td>NaN</td>\n",
       "      <td>False</td>\n",
       "      <td>wiltshire</td>\n",
       "      <td>False</td>\n",
       "    </tr>\n",
       "    <tr>\n",
       "      <th>660610</th>\n",
       "      <td>4d8604d3-9864-4fd5-a811-f8ce7bed619a</td>\n",
       "      <td>Person search</td>\n",
       "      <td>2018-08-30T13:15:00+00:00</td>\n",
       "      <td>NaN</td>\n",
       "      <td>NaN</td>\n",
       "      <td>NaN</td>\n",
       "      <td>Female</td>\n",
       "      <td>over 34</td>\n",
       "      <td>White - English/Welsh/Scottish/Northern Irish/...</td>\n",
       "      <td>White</td>\n",
       "      <td>Misuse of Drugs Act 1971 (section 23)</td>\n",
       "      <td>Controlled drugs</td>\n",
       "      <td>Caution (simple or conditional)</td>\n",
       "      <td>NaN</td>\n",
       "      <td>NaN</td>\n",
       "      <td>wiltshire</td>\n",
       "      <td>True</td>\n",
       "    </tr>\n",
       "  </tbody>\n",
       "</table>\n",
       "<p>660611 rows × 17 columns</p>\n",
       "</div>"
      ],
      "text/plain": [
       "                              observation_id                       Type  \\\n",
       "0       34d76816-cfc2-4bdd-b3a2-bf0c40b12689              Person search   \n",
       "1       83c87ec1-e6d4-4bbb-8e0c-159516706359              Person search   \n",
       "2       8c2eae4b-035a-492f-92d6-cd27e6c900a1              Person search   \n",
       "3       e63a036a-a728-4efe-8e08-7198f56d6d0a              Person search   \n",
       "4       40c70aca-1f7f-4efe-8c5b-ade0f2e9937d              Person search   \n",
       "...                                      ...                        ...   \n",
       "660606  a23dc59d-29fe-48e5-b012-81feb6acfddf              Person search   \n",
       "660607  425fde18-f7d5-4ebe-baf4-714cadd5a445  Person and Vehicle search   \n",
       "660608  7c249ab7-d4bf-47ef-86bd-aad51d7d2aab              Person search   \n",
       "660609  4fa54513-20c4-4a53-a5db-8a4bb85b1e32              Person search   \n",
       "660610  4d8604d3-9864-4fd5-a811-f8ce7bed619a              Person search   \n",
       "\n",
       "                             Date Part of a policing operation   Latitude  \\\n",
       "0       2019-12-01T00:00:00+00:00                         True        NaN   \n",
       "1       2019-12-01T00:09:00+00:00                         True        NaN   \n",
       "2       2019-12-01T00:10:00+00:00                         True        NaN   \n",
       "3       2019-12-01T00:10:00+00:00                        False        NaN   \n",
       "4       2019-12-01T00:12:00+00:00                         True  50.368247   \n",
       "...                           ...                          ...        ...   \n",
       "660606  2018-08-29T02:45:00+00:00                          NaN        NaN   \n",
       "660607  2018-08-29T21:00:00+00:00                        False  51.540219   \n",
       "660608  2018-08-29T21:10:00+00:00                        False  51.540219   \n",
       "660609  2018-08-29T21:15:00+00:00                        False  51.540219   \n",
       "660610  2018-08-30T13:15:00+00:00                          NaN        NaN   \n",
       "\n",
       "        Longitude  Gender Age range  \\\n",
       "0             NaN    Male     18-24   \n",
       "1             NaN    Male     18-24   \n",
       "2             NaN  Female     18-24   \n",
       "3             NaN    Male     18-24   \n",
       "4       -4.126646    Male     18-24   \n",
       "...           ...     ...       ...   \n",
       "660606        NaN    Male     18-24   \n",
       "660607  -1.764708    Male     18-24   \n",
       "660608  -1.764708    Male     18-24   \n",
       "660609  -1.764708    Male     18-24   \n",
       "660610        NaN  Female   over 34   \n",
       "\n",
       "                                   Self-defined ethnicity  \\\n",
       "0        Asian/Asian British - Any other Asian background   \n",
       "1                                                     NaN   \n",
       "2       White - English/Welsh/Scottish/Northern Irish/...   \n",
       "3                                                     NaN   \n",
       "4                                                     NaN   \n",
       "...                                                   ...   \n",
       "660606  White - English/Welsh/Scottish/Northern Irish/...   \n",
       "660607  White - English/Welsh/Scottish/Northern Irish/...   \n",
       "660608  White - English/Welsh/Scottish/Northern Irish/...   \n",
       "660609  White - English/Welsh/Scottish/Northern Irish/...   \n",
       "660610  White - English/Welsh/Scottish/Northern Irish/...   \n",
       "\n",
       "       Officer-defined ethnicity                            Legislation  \\\n",
       "0                          Asian  Misuse of Drugs Act 1971 (section 23)   \n",
       "1                          White  Misuse of Drugs Act 1971 (section 23)   \n",
       "2                          White  Misuse of Drugs Act 1971 (section 23)   \n",
       "3                          Asian  Misuse of Drugs Act 1971 (section 23)   \n",
       "4                          White  Misuse of Drugs Act 1971 (section 23)   \n",
       "...                          ...                                    ...   \n",
       "660606                     White  Misuse of Drugs Act 1971 (section 23)   \n",
       "660607                     White  Misuse of Drugs Act 1971 (section 23)   \n",
       "660608                     White  Misuse of Drugs Act 1971 (section 23)   \n",
       "660609                     White  Misuse of Drugs Act 1971 (section 23)   \n",
       "660610                     White  Misuse of Drugs Act 1971 (section 23)   \n",
       "\n",
       "        Object of search                          Outcome  \\\n",
       "0       Controlled drugs     A no further action disposal   \n",
       "1       Controlled drugs     A no further action disposal   \n",
       "2       Controlled drugs     A no further action disposal   \n",
       "3       Controlled drugs     A no further action disposal   \n",
       "4       Controlled drugs     A no further action disposal   \n",
       "...                  ...                              ...   \n",
       "660606  Controlled drugs     A no further action disposal   \n",
       "660607  Controlled drugs      Penalty Notice for Disorder   \n",
       "660608  Controlled drugs     A no further action disposal   \n",
       "660609  Controlled drugs     A no further action disposal   \n",
       "660610  Controlled drugs  Caution (simple or conditional)   \n",
       "\n",
       "       Outcome linked to object of search  \\\n",
       "0                                     NaN   \n",
       "1                                     NaN   \n",
       "2                                     NaN   \n",
       "3                                     NaN   \n",
       "4                                     NaN   \n",
       "...                                   ...   \n",
       "660606                                NaN   \n",
       "660607                               True   \n",
       "660608                                NaN   \n",
       "660609                                NaN   \n",
       "660610                                NaN   \n",
       "\n",
       "       Removal of more than just outer clothing             station  target  \n",
       "0                                         False  devon-and-cornwall   False  \n",
       "1                                         False  devon-and-cornwall   False  \n",
       "2                                         False  devon-and-cornwall   False  \n",
       "3                                         False  devon-and-cornwall   False  \n",
       "4                                         False  devon-and-cornwall   False  \n",
       "...                                         ...                 ...     ...  \n",
       "660606                                      NaN           wiltshire   False  \n",
       "660607                                    False           wiltshire    True  \n",
       "660608                                    False           wiltshire   False  \n",
       "660609                                    False           wiltshire   False  \n",
       "660610                                      NaN           wiltshire    True  \n",
       "\n",
       "[660611 rows x 17 columns]"
      ]
     },
     "execution_count": 70,
     "metadata": {},
     "output_type": "execute_result"
    }
   ],
   "source": [
    "#build target from outcome column true means the search was succesfull and police find something False means the polica did search but could not find anythong.\n",
    "df['target'] =True\n",
    "df.loc[df['Outcome']=='A no further action disposal','target'] =False\n",
    "df.loc[df['Outcome']== 'Nothing found - no further action','target']=False\n",
    "df"
   ]
  },
  {
   "cell_type": "markdown",
   "id": "welsh-lloyd",
   "metadata": {},
   "source": [
    "Target chack values"
   ]
  },
  {
   "cell_type": "code",
   "execution_count": 71,
   "id": "warming-tradition",
   "metadata": {},
   "outputs": [
    {
     "data": {
      "text/plain": [
       "False    471530\n",
       "True     189081\n",
       "Name: target, dtype: int64"
      ]
     },
     "execution_count": 71,
     "metadata": {},
     "output_type": "execute_result"
    }
   ],
   "source": [
    "#count the values\n",
    "df['target'].value_counts()"
   ]
  },
  {
   "cell_type": "code",
   "execution_count": 72,
   "id": "accredited-customer",
   "metadata": {},
   "outputs": [
    {
     "data": {
      "text/plain": [
       "Text(0, 0.5, 'Count')"
      ]
     },
     "execution_count": 72,
     "metadata": {},
     "output_type": "execute_result"
    },
    {
     "data": {
      "image/png": "[encoded data removed]",
      "text/plain": [
       "<Figure size 432x288 with 1 Axes>"
      ]
     },
     "metadata": {
      "needs_background": "light"
     },
     "output_type": "display_data"
    }
   ],
   "source": [
    "#plot\n",
    "df['target'].value_counts().plot.bar()\n",
    "plt.xlabel('target')\n",
    "plt.ylabel('Count')"
   ]
  },
  {
   "cell_type": "markdown",
   "id": "residential-union",
   "metadata": {},
   "source": [
    "# Comparing columns with eachother"
   ]
  },
  {
   "cell_type": "code",
   "execution_count": 73,
   "id": "comfortable-college",
   "metadata": {},
   "outputs": [
    {
     "data": {
      "text/html": [
       "<div>\n",
       "<style scoped>\n",
       "    .dataframe tbody tr th:only-of-type {\n",
       "        vertical-align: middle;\n",
       "    }\n",
       "\n",
       "    .dataframe tbody tr th {\n",
       "        vertical-align: top;\n",
       "    }\n",
       "\n",
       "    .dataframe thead th {\n",
       "        text-align: right;\n",
       "    }\n",
       "</style>\n",
       "<table border=\"1\" class=\"dataframe\">\n",
       "  <thead>\n",
       "    <tr style=\"text-align: right;\">\n",
       "      <th>Outcome linked to object of search</th>\n",
       "      <th>False</th>\n",
       "      <th>True</th>\n",
       "    </tr>\n",
       "    <tr>\n",
       "      <th>Outcome</th>\n",
       "      <th></th>\n",
       "      <th></th>\n",
       "    </tr>\n",
       "  </thead>\n",
       "  <tbody>\n",
       "    <tr>\n",
       "      <th>A no further action disposal</th>\n",
       "      <td>53206</td>\n",
       "      <td>35627</td>\n",
       "    </tr>\n",
       "    <tr>\n",
       "      <th>Arrest</th>\n",
       "      <td>11299</td>\n",
       "      <td>25800</td>\n",
       "    </tr>\n",
       "    <tr>\n",
       "      <th>Article found - Detailed outcome unavailable</th>\n",
       "      <td>158</td>\n",
       "      <td>243</td>\n",
       "    </tr>\n",
       "    <tr>\n",
       "      <th>Caution (simple or conditional)</th>\n",
       "      <td>350</td>\n",
       "      <td>2231</td>\n",
       "    </tr>\n",
       "    <tr>\n",
       "      <th>Community resolution</th>\n",
       "      <td>3398</td>\n",
       "      <td>7192</td>\n",
       "    </tr>\n",
       "    <tr>\n",
       "      <th>Khat or Cannabis warning</th>\n",
       "      <td>1482</td>\n",
       "      <td>11561</td>\n",
       "    </tr>\n",
       "    <tr>\n",
       "      <th>Local resolution</th>\n",
       "      <td>649</td>\n",
       "      <td>434</td>\n",
       "    </tr>\n",
       "    <tr>\n",
       "      <th>Nothing found - no further action</th>\n",
       "      <td>3271</td>\n",
       "      <td>1445</td>\n",
       "    </tr>\n",
       "    <tr>\n",
       "      <th>Offender cautioned</th>\n",
       "      <td>25</td>\n",
       "      <td>136</td>\n",
       "    </tr>\n",
       "    <tr>\n",
       "      <th>Offender given drugs possession warning</th>\n",
       "      <td>193</td>\n",
       "      <td>965</td>\n",
       "    </tr>\n",
       "    <tr>\n",
       "      <th>Offender given penalty notice</th>\n",
       "      <td>84</td>\n",
       "      <td>114</td>\n",
       "    </tr>\n",
       "    <tr>\n",
       "      <th>Penalty Notice for Disorder</th>\n",
       "      <td>1108</td>\n",
       "      <td>1691</td>\n",
       "    </tr>\n",
       "    <tr>\n",
       "      <th>Summons / charged by post</th>\n",
       "      <td>1455</td>\n",
       "      <td>5324</td>\n",
       "    </tr>\n",
       "    <tr>\n",
       "      <th>Suspect arrested</th>\n",
       "      <td>923</td>\n",
       "      <td>1525</td>\n",
       "    </tr>\n",
       "    <tr>\n",
       "      <th>Suspect summonsed to court</th>\n",
       "      <td>114</td>\n",
       "      <td>299</td>\n",
       "    </tr>\n",
       "    <tr>\n",
       "      <th>Suspected psychoactive substances seized - No further action</th>\n",
       "      <td>2</td>\n",
       "      <td>4</td>\n",
       "    </tr>\n",
       "  </tbody>\n",
       "</table>\n",
       "</div>"
      ],
      "text/plain": [
       "Outcome linked to object of search                  False  True \n",
       "Outcome                                                         \n",
       "A no further action disposal                        53206  35627\n",
       "Arrest                                              11299  25800\n",
       "Article found - Detailed outcome unavailable          158    243\n",
       "Caution (simple or conditional)                       350   2231\n",
       "Community resolution                                 3398   7192\n",
       "Khat or Cannabis warning                             1482  11561\n",
       "Local resolution                                      649    434\n",
       "Nothing found - no further action                    3271   1445\n",
       "Offender cautioned                                     25    136\n",
       "Offender given drugs possession warning               193    965\n",
       "Offender given penalty notice                          84    114\n",
       "Penalty Notice for Disorder                          1108   1691\n",
       "Summons / charged by post                            1455   5324\n",
       "Suspect arrested                                      923   1525\n",
       "Suspect summonsed to court                            114    299\n",
       "Suspected psychoactive substances seized - No f...      2      4"
      ]
     },
     "execution_count": 73,
     "metadata": {},
     "output_type": "execute_result"
    }
   ],
   "source": [
    "df.groupby(['Outcome', \n",
    "            'Outcome linked to object of search'])['Legislation'].count().unstack()"
   ]
  },
  {
   "cell_type": "code",
   "execution_count": 74,
   "id": "simplified-duncan",
   "metadata": {},
   "outputs": [
    {
     "data": {
      "text/html": [
       "<div>\n",
       "<style scoped>\n",
       "    .dataframe tbody tr th:only-of-type {\n",
       "        vertical-align: middle;\n",
       "    }\n",
       "\n",
       "    .dataframe tbody tr th {\n",
       "        vertical-align: top;\n",
       "    }\n",
       "\n",
       "    .dataframe thead th {\n",
       "        text-align: right;\n",
       "    }\n",
       "</style>\n",
       "<table border=\"1\" class=\"dataframe\">\n",
       "  <thead>\n",
       "    <tr style=\"text-align: right;\">\n",
       "      <th>Outcome linked to object of search</th>\n",
       "      <th>False</th>\n",
       "      <th>True</th>\n",
       "    </tr>\n",
       "    <tr>\n",
       "      <th>Object of search</th>\n",
       "      <th></th>\n",
       "      <th></th>\n",
       "    </tr>\n",
       "  </thead>\n",
       "  <tbody>\n",
       "    <tr>\n",
       "      <th>Anything to threaten or harm anyone</th>\n",
       "      <td>1470.0</td>\n",
       "      <td>1134.0</td>\n",
       "    </tr>\n",
       "    <tr>\n",
       "      <th>Article for use in theft</th>\n",
       "      <td>9190.0</td>\n",
       "      <td>7319.0</td>\n",
       "    </tr>\n",
       "    <tr>\n",
       "      <th>Articles for use in criminal damage</th>\n",
       "      <td>1011.0</td>\n",
       "      <td>723.0</td>\n",
       "    </tr>\n",
       "    <tr>\n",
       "      <th>Controlled drugs</th>\n",
       "      <td>43546.0</td>\n",
       "      <td>65775.0</td>\n",
       "    </tr>\n",
       "    <tr>\n",
       "      <th>Crossbows</th>\n",
       "      <td>6.0</td>\n",
       "      <td>5.0</td>\n",
       "    </tr>\n",
       "    <tr>\n",
       "      <th>Detailed object of search unavailable</th>\n",
       "      <td>14.0</td>\n",
       "      <td>76.0</td>\n",
       "    </tr>\n",
       "    <tr>\n",
       "      <th>Evidence of offences under the Act</th>\n",
       "      <td>901.0</td>\n",
       "      <td>407.0</td>\n",
       "    </tr>\n",
       "    <tr>\n",
       "      <th>Evidence of wildlife offences</th>\n",
       "      <td>6.0</td>\n",
       "      <td>11.0</td>\n",
       "    </tr>\n",
       "    <tr>\n",
       "      <th>Firearms</th>\n",
       "      <td>831.0</td>\n",
       "      <td>761.0</td>\n",
       "    </tr>\n",
       "    <tr>\n",
       "      <th>Fireworks</th>\n",
       "      <td>161.0</td>\n",
       "      <td>190.0</td>\n",
       "    </tr>\n",
       "    <tr>\n",
       "      <th>Game or poaching equipment</th>\n",
       "      <td>21.0</td>\n",
       "      <td>56.0</td>\n",
       "    </tr>\n",
       "    <tr>\n",
       "      <th>Goods on which duty has not been paid etc.</th>\n",
       "      <td>5.0</td>\n",
       "      <td>10.0</td>\n",
       "    </tr>\n",
       "    <tr>\n",
       "      <th>Offensive weapons</th>\n",
       "      <td>10909.0</td>\n",
       "      <td>8920.0</td>\n",
       "    </tr>\n",
       "    <tr>\n",
       "      <th>Psychoactive substances</th>\n",
       "      <td>1036.0</td>\n",
       "      <td>655.0</td>\n",
       "    </tr>\n",
       "    <tr>\n",
       "      <th>Seals or hunting equipment</th>\n",
       "      <td>NaN</td>\n",
       "      <td>2.0</td>\n",
       "    </tr>\n",
       "    <tr>\n",
       "      <th>Stolen goods</th>\n",
       "      <td>8610.0</td>\n",
       "      <td>8547.0</td>\n",
       "    </tr>\n",
       "  </tbody>\n",
       "</table>\n",
       "</div>"
      ],
      "text/plain": [
       "Outcome linked to object of search            False    True \n",
       "Object of search                                            \n",
       "Anything to threaten or harm anyone          1470.0   1134.0\n",
       "Article for use in theft                     9190.0   7319.0\n",
       "Articles for use in criminal damage          1011.0    723.0\n",
       "Controlled drugs                            43546.0  65775.0\n",
       "Crossbows                                       6.0      5.0\n",
       "Detailed object of search unavailable          14.0     76.0\n",
       "Evidence of offences under the Act            901.0    407.0\n",
       "Evidence of wildlife offences                   6.0     11.0\n",
       "Firearms                                      831.0    761.0\n",
       "Fireworks                                     161.0    190.0\n",
       "Game or poaching equipment                     21.0     56.0\n",
       "Goods on which duty has not been paid etc.      5.0     10.0\n",
       "Offensive weapons                           10909.0   8920.0\n",
       "Psychoactive substances                      1036.0    655.0\n",
       "Seals or hunting equipment                      NaN      2.0\n",
       "Stolen goods                                 8610.0   8547.0"
      ]
     },
     "execution_count": 74,
     "metadata": {},
     "output_type": "execute_result"
    }
   ],
   "source": [
    "df.groupby(['Object of search', \n",
    "            'Outcome linked to object of search'])['Legislation'].count().unstack()"
   ]
  },
  {
   "cell_type": "code",
   "execution_count": 75,
   "id": "charming-incentive",
   "metadata": {},
   "outputs": [
    {
     "data": {
      "text/html": [
       "<div>\n",
       "<style scoped>\n",
       "    .dataframe tbody tr th:only-of-type {\n",
       "        vertical-align: middle;\n",
       "    }\n",
       "\n",
       "    .dataframe tbody tr th {\n",
       "        vertical-align: top;\n",
       "    }\n",
       "\n",
       "    .dataframe thead th {\n",
       "        text-align: right;\n",
       "    }\n",
       "</style>\n",
       "<table border=\"1\" class=\"dataframe\">\n",
       "  <thead>\n",
       "    <tr style=\"text-align: right;\">\n",
       "      <th>Self-defined ethnicity</th>\n",
       "      <th>Asian/Asian British - Any other Asian background</th>\n",
       "      <th>Asian/Asian British - Bangladeshi</th>\n",
       "      <th>Asian/Asian British - Chinese</th>\n",
       "      <th>Asian/Asian British - Indian</th>\n",
       "      <th>Asian/Asian British - Pakistani</th>\n",
       "      <th>Black/African/Caribbean/Black British - African</th>\n",
       "      <th>Black/African/Caribbean/Black British - Any other Black/African/Caribbean background</th>\n",
       "      <th>Black/African/Caribbean/Black British - Caribbean</th>\n",
       "      <th>Mixed/Multiple ethnic groups - Any other Mixed/Multiple ethnic background</th>\n",
       "      <th>Mixed/Multiple ethnic groups - White and Asian</th>\n",
       "      <th>Mixed/Multiple ethnic groups - White and Black African</th>\n",
       "      <th>Mixed/Multiple ethnic groups - White and Black Caribbean</th>\n",
       "      <th>Other ethnic group - Any other ethnic group</th>\n",
       "      <th>Other ethnic group - Arab</th>\n",
       "      <th>Other ethnic group - Not stated</th>\n",
       "      <th>White - Any other White background</th>\n",
       "      <th>White - English/Welsh/Scottish/Northern Irish/British</th>\n",
       "      <th>White - Gypsy or Irish Traveller</th>\n",
       "      <th>White - Irish</th>\n",
       "    </tr>\n",
       "    <tr>\n",
       "      <th>Officer-defined ethnicity</th>\n",
       "      <th></th>\n",
       "      <th></th>\n",
       "      <th></th>\n",
       "      <th></th>\n",
       "      <th></th>\n",
       "      <th></th>\n",
       "      <th></th>\n",
       "      <th></th>\n",
       "      <th></th>\n",
       "      <th></th>\n",
       "      <th></th>\n",
       "      <th></th>\n",
       "      <th></th>\n",
       "      <th></th>\n",
       "      <th></th>\n",
       "      <th></th>\n",
       "      <th></th>\n",
       "      <th></th>\n",
       "      <th></th>\n",
       "    </tr>\n",
       "  </thead>\n",
       "  <tbody>\n",
       "    <tr>\n",
       "      <th>Asian</th>\n",
       "      <td>21617</td>\n",
       "      <td>15183</td>\n",
       "      <td>518</td>\n",
       "      <td>6674</td>\n",
       "      <td>11477</td>\n",
       "      <td>371</td>\n",
       "      <td>343</td>\n",
       "      <td>114</td>\n",
       "      <td>956</td>\n",
       "      <td>845</td>\n",
       "      <td>60</td>\n",
       "      <td>59</td>\n",
       "      <td>1462</td>\n",
       "      <td>12</td>\n",
       "      <td>11085</td>\n",
       "      <td>421</td>\n",
       "      <td>637</td>\n",
       "      <td>9</td>\n",
       "      <td>11</td>\n",
       "    </tr>\n",
       "    <tr>\n",
       "      <th>Black</th>\n",
       "      <td>586</td>\n",
       "      <td>133</td>\n",
       "      <td>94</td>\n",
       "      <td>124</td>\n",
       "      <td>91</td>\n",
       "      <td>36992</td>\n",
       "      <td>47076</td>\n",
       "      <td>26884</td>\n",
       "      <td>2955</td>\n",
       "      <td>71</td>\n",
       "      <td>1520</td>\n",
       "      <td>5081</td>\n",
       "      <td>1096</td>\n",
       "      <td>5</td>\n",
       "      <td>28072</td>\n",
       "      <td>304</td>\n",
       "      <td>1087</td>\n",
       "      <td>7</td>\n",
       "      <td>38</td>\n",
       "    </tr>\n",
       "    <tr>\n",
       "      <th>Mixed</th>\n",
       "      <td>14</td>\n",
       "      <td>2</td>\n",
       "      <td>1</td>\n",
       "      <td>3</td>\n",
       "      <td>8</td>\n",
       "      <td>18</td>\n",
       "      <td>76</td>\n",
       "      <td>44</td>\n",
       "      <td>302</td>\n",
       "      <td>56</td>\n",
       "      <td>93</td>\n",
       "      <td>236</td>\n",
       "      <td>22</td>\n",
       "      <td>2</td>\n",
       "      <td>483</td>\n",
       "      <td>71</td>\n",
       "      <td>63</td>\n",
       "      <td>1</td>\n",
       "      <td>0</td>\n",
       "    </tr>\n",
       "    <tr>\n",
       "      <th>Other</th>\n",
       "      <td>2691</td>\n",
       "      <td>71</td>\n",
       "      <td>137</td>\n",
       "      <td>72</td>\n",
       "      <td>172</td>\n",
       "      <td>452</td>\n",
       "      <td>369</td>\n",
       "      <td>44</td>\n",
       "      <td>1500</td>\n",
       "      <td>188</td>\n",
       "      <td>173</td>\n",
       "      <td>313</td>\n",
       "      <td>3693</td>\n",
       "      <td>63</td>\n",
       "      <td>5458</td>\n",
       "      <td>1372</td>\n",
       "      <td>639</td>\n",
       "      <td>3</td>\n",
       "      <td>17</td>\n",
       "    </tr>\n",
       "    <tr>\n",
       "      <th>White</th>\n",
       "      <td>534</td>\n",
       "      <td>59</td>\n",
       "      <td>60</td>\n",
       "      <td>114</td>\n",
       "      <td>122</td>\n",
       "      <td>295</td>\n",
       "      <td>419</td>\n",
       "      <td>207</td>\n",
       "      <td>2603</td>\n",
       "      <td>441</td>\n",
       "      <td>175</td>\n",
       "      <td>581</td>\n",
       "      <td>3609</td>\n",
       "      <td>3</td>\n",
       "      <td>27256</td>\n",
       "      <td>48295</td>\n",
       "      <td>213687</td>\n",
       "      <td>592</td>\n",
       "      <td>4167</td>\n",
       "    </tr>\n",
       "  </tbody>\n",
       "</table>\n",
       "</div>"
      ],
      "text/plain": [
       "Self-defined ethnicity     Asian/Asian British - Any other Asian background  \\\n",
       "Officer-defined ethnicity                                                     \n",
       "Asian                                                                 21617   \n",
       "Black                                                                   586   \n",
       "Mixed                                                                    14   \n",
       "Other                                                                  2691   \n",
       "White                                                                   534   \n",
       "\n",
       "Self-defined ethnicity     Asian/Asian British - Bangladeshi  \\\n",
       "Officer-defined ethnicity                                      \n",
       "Asian                                                  15183   \n",
       "Black                                                    133   \n",
       "Mixed                                                      2   \n",
       "Other                                                     71   \n",
       "White                                                     59   \n",
       "\n",
       "Self-defined ethnicity     Asian/Asian British - Chinese  \\\n",
       "Officer-defined ethnicity                                  \n",
       "Asian                                                518   \n",
       "Black                                                 94   \n",
       "Mixed                                                  1   \n",
       "Other                                                137   \n",
       "White                                                 60   \n",
       "\n",
       "Self-defined ethnicity     Asian/Asian British - Indian  \\\n",
       "Officer-defined ethnicity                                 \n",
       "Asian                                              6674   \n",
       "Black                                               124   \n",
       "Mixed                                                 3   \n",
       "Other                                                72   \n",
       "White                                               114   \n",
       "\n",
       "Self-defined ethnicity     Asian/Asian British - Pakistani  \\\n",
       "Officer-defined ethnicity                                    \n",
       "Asian                                                11477   \n",
       "Black                                                   91   \n",
       "Mixed                                                    8   \n",
       "Other                                                  172   \n",
       "White                                                  122   \n",
       "\n",
       "Self-defined ethnicity     Black/African/Caribbean/Black British - African  \\\n",
       "Officer-defined ethnicity                                                    \n",
       "Asian                                                                  371   \n",
       "Black                                                                36992   \n",
       "Mixed                                                                   18   \n",
       "Other                                                                  452   \n",
       "White                                                                  295   \n",
       "\n",
       "Self-defined ethnicity     Black/African/Caribbean/Black British - Any other Black/African/Caribbean background  \\\n",
       "Officer-defined ethnicity                                                                                         \n",
       "Asian                                                                    343                                      \n",
       "Black                                                                  47076                                      \n",
       "Mixed                                                                     76                                      \n",
       "Other                                                                    369                                      \n",
       "White                                                                    419                                      \n",
       "\n",
       "Self-defined ethnicity     Black/African/Caribbean/Black British - Caribbean  \\\n",
       "Officer-defined ethnicity                                                      \n",
       "Asian                                                                    114   \n",
       "Black                                                                  26884   \n",
       "Mixed                                                                     44   \n",
       "Other                                                                     44   \n",
       "White                                                                    207   \n",
       "\n",
       "Self-defined ethnicity     Mixed/Multiple ethnic groups - Any other Mixed/Multiple ethnic background  \\\n",
       "Officer-defined ethnicity                                                                              \n",
       "Asian                                                                    956                           \n",
       "Black                                                                   2955                           \n",
       "Mixed                                                                    302                           \n",
       "Other                                                                   1500                           \n",
       "White                                                                   2603                           \n",
       "\n",
       "Self-defined ethnicity     Mixed/Multiple ethnic groups - White and Asian  \\\n",
       "Officer-defined ethnicity                                                   \n",
       "Asian                                                                 845   \n",
       "Black                                                                  71   \n",
       "Mixed                                                                  56   \n",
       "Other                                                                 188   \n",
       "White                                                                 441   \n",
       "\n",
       "Self-defined ethnicity     Mixed/Multiple ethnic groups - White and Black African  \\\n",
       "Officer-defined ethnicity                                                           \n",
       "Asian                                                                     60        \n",
       "Black                                                                   1520        \n",
       "Mixed                                                                     93        \n",
       "Other                                                                    173        \n",
       "White                                                                    175        \n",
       "\n",
       "Self-defined ethnicity     Mixed/Multiple ethnic groups - White and Black Caribbean  \\\n",
       "Officer-defined ethnicity                                                             \n",
       "Asian                                                                     59          \n",
       "Black                                                                   5081          \n",
       "Mixed                                                                    236          \n",
       "Other                                                                    313          \n",
       "White                                                                    581          \n",
       "\n",
       "Self-defined ethnicity     Other ethnic group - Any other ethnic group  \\\n",
       "Officer-defined ethnicity                                                \n",
       "Asian                                                             1462   \n",
       "Black                                                             1096   \n",
       "Mixed                                                               22   \n",
       "Other                                                             3693   \n",
       "White                                                             3609   \n",
       "\n",
       "Self-defined ethnicity     Other ethnic group - Arab  \\\n",
       "Officer-defined ethnicity                              \n",
       "Asian                                             12   \n",
       "Black                                              5   \n",
       "Mixed                                              2   \n",
       "Other                                             63   \n",
       "White                                              3   \n",
       "\n",
       "Self-defined ethnicity     Other ethnic group - Not stated  \\\n",
       "Officer-defined ethnicity                                    \n",
       "Asian                                                11085   \n",
       "Black                                                28072   \n",
       "Mixed                                                  483   \n",
       "Other                                                 5458   \n",
       "White                                                27256   \n",
       "\n",
       "Self-defined ethnicity     White - Any other White background  \\\n",
       "Officer-defined ethnicity                                       \n",
       "Asian                                                     421   \n",
       "Black                                                     304   \n",
       "Mixed                                                      71   \n",
       "Other                                                    1372   \n",
       "White                                                   48295   \n",
       "\n",
       "Self-defined ethnicity     White - English/Welsh/Scottish/Northern Irish/British  \\\n",
       "Officer-defined ethnicity                                                          \n",
       "Asian                                                                    637       \n",
       "Black                                                                   1087       \n",
       "Mixed                                                                     63       \n",
       "Other                                                                    639       \n",
       "White                                                                 213687       \n",
       "\n",
       "Self-defined ethnicity     White - Gypsy or Irish Traveller  White - Irish  \n",
       "Officer-defined ethnicity                                                   \n",
       "Asian                                                     9             11  \n",
       "Black                                                     7             38  \n",
       "Mixed                                                     1              0  \n",
       "Other                                                     3             17  \n",
       "White                                                   592           4167  "
      ]
     },
     "execution_count": 75,
     "metadata": {},
     "output_type": "execute_result"
    }
   ],
   "source": [
    "df.groupby(['Officer-defined ethnicity', \n",
    "            'Self-defined ethnicity'])['Longitude'].count().unstack()\n"
   ]
  },
  {
   "cell_type": "code",
   "execution_count": 76,
   "id": "personal-starter",
   "metadata": {},
   "outputs": [
    {
     "data": {
      "text/html": [
       "<div>\n",
       "<style scoped>\n",
       "    .dataframe tbody tr th:only-of-type {\n",
       "        vertical-align: middle;\n",
       "    }\n",
       "\n",
       "    .dataframe tbody tr th {\n",
       "        vertical-align: top;\n",
       "    }\n",
       "\n",
       "    .dataframe thead th {\n",
       "        text-align: right;\n",
       "    }\n",
       "</style>\n",
       "<table border=\"1\" class=\"dataframe\">\n",
       "  <thead>\n",
       "    <tr style=\"text-align: right;\">\n",
       "      <th>target</th>\n",
       "      <th>False</th>\n",
       "      <th>True</th>\n",
       "    </tr>\n",
       "    <tr>\n",
       "      <th>Gender</th>\n",
       "      <th></th>\n",
       "      <th></th>\n",
       "    </tr>\n",
       "  </thead>\n",
       "  <tbody>\n",
       "    <tr>\n",
       "      <th>Female</th>\n",
       "      <td>31997</td>\n",
       "      <td>12014</td>\n",
       "    </tr>\n",
       "    <tr>\n",
       "      <th>Male</th>\n",
       "      <td>357993</td>\n",
       "      <td>145963</td>\n",
       "    </tr>\n",
       "    <tr>\n",
       "      <th>Other</th>\n",
       "      <td>239</td>\n",
       "      <td>89</td>\n",
       "    </tr>\n",
       "  </tbody>\n",
       "</table>\n",
       "</div>"
      ],
      "text/plain": [
       "target   False   True \n",
       "Gender                \n",
       "Female   31997   12014\n",
       "Male    357993  145963\n",
       "Other      239      89"
      ]
     },
     "execution_count": 76,
     "metadata": {},
     "output_type": "execute_result"
    }
   ],
   "source": [
    "df.groupby(['Gender', \n",
    "            'target'])['Longitude'].count().unstack()"
   ]
  },
  {
   "cell_type": "code",
   "execution_count": 77,
   "id": "proof-shanghai",
   "metadata": {},
   "outputs": [
    {
     "data": {
      "text/html": [
       "<div>\n",
       "<style scoped>\n",
       "    .dataframe tbody tr th:only-of-type {\n",
       "        vertical-align: middle;\n",
       "    }\n",
       "\n",
       "    .dataframe tbody tr th {\n",
       "        vertical-align: top;\n",
       "    }\n",
       "\n",
       "    .dataframe thead th {\n",
       "        text-align: right;\n",
       "    }\n",
       "</style>\n",
       "<table border=\"1\" class=\"dataframe\">\n",
       "  <thead>\n",
       "    <tr style=\"text-align: right;\">\n",
       "      <th>target</th>\n",
       "      <th>False</th>\n",
       "      <th>True</th>\n",
       "    </tr>\n",
       "    <tr>\n",
       "      <th>Officer-defined ethnicity</th>\n",
       "      <th></th>\n",
       "      <th></th>\n",
       "    </tr>\n",
       "  </thead>\n",
       "  <tbody>\n",
       "    <tr>\n",
       "      <th>Asian</th>\n",
       "      <td>51587</td>\n",
       "      <td>20492</td>\n",
       "    </tr>\n",
       "    <tr>\n",
       "      <th>Black</th>\n",
       "      <td>109889</td>\n",
       "      <td>42690</td>\n",
       "    </tr>\n",
       "    <tr>\n",
       "      <th>Mixed</th>\n",
       "      <td>1073</td>\n",
       "      <td>484</td>\n",
       "    </tr>\n",
       "    <tr>\n",
       "      <th>Other</th>\n",
       "      <td>12534</td>\n",
       "      <td>4963</td>\n",
       "    </tr>\n",
       "    <tr>\n",
       "      <th>White</th>\n",
       "      <td>215146</td>\n",
       "      <td>89437</td>\n",
       "    </tr>\n",
       "  </tbody>\n",
       "</table>\n",
       "</div>"
      ],
      "text/plain": [
       "target                      False  True \n",
       "Officer-defined ethnicity               \n",
       "Asian                       51587  20492\n",
       "Black                      109889  42690\n",
       "Mixed                        1073    484\n",
       "Other                       12534   4963\n",
       "White                      215146  89437"
      ]
     },
     "execution_count": 77,
     "metadata": {},
     "output_type": "execute_result"
    }
   ],
   "source": [
    "df.groupby(['Officer-defined ethnicity', \n",
    "            'target'])['Longitude'].count().unstack()\n"
   ]
  },
  {
   "cell_type": "code",
   "execution_count": 78,
   "id": "civilian-trace",
   "metadata": {},
   "outputs": [
    {
     "data": {
      "text/html": [
       "<div>\n",
       "<style scoped>\n",
       "    .dataframe tbody tr th:only-of-type {\n",
       "        vertical-align: middle;\n",
       "    }\n",
       "\n",
       "    .dataframe tbody tr th {\n",
       "        vertical-align: top;\n",
       "    }\n",
       "\n",
       "    .dataframe thead th {\n",
       "        text-align: right;\n",
       "    }\n",
       "</style>\n",
       "<table border=\"1\" class=\"dataframe\">\n",
       "  <thead>\n",
       "    <tr style=\"text-align: right;\">\n",
       "      <th>Removal of more than just outer clothing</th>\n",
       "      <th>False</th>\n",
       "      <th>True</th>\n",
       "    </tr>\n",
       "    <tr>\n",
       "      <th>Officer-defined ethnicity</th>\n",
       "      <th></th>\n",
       "      <th></th>\n",
       "    </tr>\n",
       "  </thead>\n",
       "  <tbody>\n",
       "    <tr>\n",
       "      <th>Asian</th>\n",
       "      <td>12304</td>\n",
       "      <td>775</td>\n",
       "    </tr>\n",
       "    <tr>\n",
       "      <th>Black</th>\n",
       "      <td>17362</td>\n",
       "      <td>1957</td>\n",
       "    </tr>\n",
       "    <tr>\n",
       "      <th>Mixed</th>\n",
       "      <td>1157</td>\n",
       "      <td>93</td>\n",
       "    </tr>\n",
       "    <tr>\n",
       "      <th>Other</th>\n",
       "      <td>3496</td>\n",
       "      <td>173</td>\n",
       "    </tr>\n",
       "    <tr>\n",
       "      <th>White</th>\n",
       "      <td>145650</td>\n",
       "      <td>5698</td>\n",
       "    </tr>\n",
       "  </tbody>\n",
       "</table>\n",
       "</div>"
      ],
      "text/plain": [
       "Removal of more than just outer clothing   False  True \n",
       "Officer-defined ethnicity                              \n",
       "Asian                                      12304    775\n",
       "Black                                      17362   1957\n",
       "Mixed                                       1157     93\n",
       "Other                                       3496    173\n",
       "White                                     145650   5698"
      ]
     },
     "execution_count": 78,
     "metadata": {},
     "output_type": "execute_result"
    }
   ],
   "source": [
    "df.groupby(['Officer-defined ethnicity', \n",
    "            'Removal of more than just outer clothing'])['Longitude'].count().unstack()"
   ]
  },
  {
   "cell_type": "code",
   "execution_count": 79,
   "id": "unlike-iraqi",
   "metadata": {},
   "outputs": [
    {
     "data": {
      "text/html": [
       "<div>\n",
       "<style scoped>\n",
       "    .dataframe tbody tr th:only-of-type {\n",
       "        vertical-align: middle;\n",
       "    }\n",
       "\n",
       "    .dataframe tbody tr th {\n",
       "        vertical-align: top;\n",
       "    }\n",
       "\n",
       "    .dataframe thead th {\n",
       "        text-align: right;\n",
       "    }\n",
       "</style>\n",
       "<table border=\"1\" class=\"dataframe\">\n",
       "  <thead>\n",
       "    <tr style=\"text-align: right;\">\n",
       "      <th>Removal of more than just outer clothing</th>\n",
       "      <th>False</th>\n",
       "      <th>True</th>\n",
       "    </tr>\n",
       "    <tr>\n",
       "      <th>Gender</th>\n",
       "      <th></th>\n",
       "      <th></th>\n",
       "    </tr>\n",
       "  </thead>\n",
       "  <tbody>\n",
       "    <tr>\n",
       "      <th>Female</th>\n",
       "      <td>17463</td>\n",
       "      <td>1039</td>\n",
       "    </tr>\n",
       "    <tr>\n",
       "      <th>Male</th>\n",
       "      <td>162328</td>\n",
       "      <td>7646</td>\n",
       "    </tr>\n",
       "    <tr>\n",
       "      <th>Other</th>\n",
       "      <td>178</td>\n",
       "      <td>11</td>\n",
       "    </tr>\n",
       "  </tbody>\n",
       "</table>\n",
       "</div>"
      ],
      "text/plain": [
       "Removal of more than just outer clothing   False  True \n",
       "Gender                                                 \n",
       "Female                                     17463   1039\n",
       "Male                                      162328   7646\n",
       "Other                                        178     11"
      ]
     },
     "execution_count": 79,
     "metadata": {},
     "output_type": "execute_result"
    }
   ],
   "source": [
    "df.groupby(['Gender', \n",
    "            'Removal of more than just outer clothing'])['Longitude'].count().unstack()"
   ]
  },
  {
   "cell_type": "code",
   "execution_count": 80,
   "id": "abandoned-richards",
   "metadata": {},
   "outputs": [
    {
     "data": {
      "text/plain": [
       "False    281\n",
       "True      96\n",
       "Name: target, dtype: int64"
      ]
     },
     "execution_count": 80,
     "metadata": {},
     "output_type": "execute_result"
    }
   ],
   "source": [
    "df[df.Gender=='Other'].target.value_counts()"
   ]
  },
  {
   "cell_type": "code",
   "execution_count": 81,
   "id": "least-science",
   "metadata": {},
   "outputs": [
    {
     "data": {
      "text/html": [
       "<div>\n",
       "<style scoped>\n",
       "    .dataframe tbody tr th:only-of-type {\n",
       "        vertical-align: middle;\n",
       "    }\n",
       "\n",
       "    .dataframe tbody tr th {\n",
       "        vertical-align: top;\n",
       "    }\n",
       "\n",
       "    .dataframe thead th {\n",
       "        text-align: right;\n",
       "    }\n",
       "</style>\n",
       "<table border=\"1\" class=\"dataframe\">\n",
       "  <thead>\n",
       "    <tr style=\"text-align: right;\">\n",
       "      <th></th>\n",
       "      <th>Outcome linked to object of search</th>\n",
       "      <th>Removal of more than just outer clothing</th>\n",
       "    </tr>\n",
       "  </thead>\n",
       "  <tbody>\n",
       "    <tr>\n",
       "      <th>7304</th>\n",
       "      <td>NaN</td>\n",
       "      <td>NaN</td>\n",
       "    </tr>\n",
       "    <tr>\n",
       "      <th>7305</th>\n",
       "      <td>NaN</td>\n",
       "      <td>NaN</td>\n",
       "    </tr>\n",
       "    <tr>\n",
       "      <th>7306</th>\n",
       "      <td>NaN</td>\n",
       "      <td>NaN</td>\n",
       "    </tr>\n",
       "    <tr>\n",
       "      <th>7307</th>\n",
       "      <td>NaN</td>\n",
       "      <td>NaN</td>\n",
       "    </tr>\n",
       "    <tr>\n",
       "      <th>7308</th>\n",
       "      <td>NaN</td>\n",
       "      <td>NaN</td>\n",
       "    </tr>\n",
       "    <tr>\n",
       "      <th>...</th>\n",
       "      <td>...</td>\n",
       "      <td>...</td>\n",
       "    </tr>\n",
       "    <tr>\n",
       "      <th>650365</th>\n",
       "      <td>NaN</td>\n",
       "      <td>NaN</td>\n",
       "    </tr>\n",
       "    <tr>\n",
       "      <th>650366</th>\n",
       "      <td>NaN</td>\n",
       "      <td>NaN</td>\n",
       "    </tr>\n",
       "    <tr>\n",
       "      <th>650367</th>\n",
       "      <td>NaN</td>\n",
       "      <td>NaN</td>\n",
       "    </tr>\n",
       "    <tr>\n",
       "      <th>650368</th>\n",
       "      <td>NaN</td>\n",
       "      <td>NaN</td>\n",
       "    </tr>\n",
       "    <tr>\n",
       "      <th>650369</th>\n",
       "      <td>NaN</td>\n",
       "      <td>NaN</td>\n",
       "    </tr>\n",
       "  </tbody>\n",
       "</table>\n",
       "<p>351294 rows × 2 columns</p>\n",
       "</div>"
      ],
      "text/plain": [
       "       Outcome linked to object of search  \\\n",
       "7304                                  NaN   \n",
       "7305                                  NaN   \n",
       "7306                                  NaN   \n",
       "7307                                  NaN   \n",
       "7308                                  NaN   \n",
       "...                                   ...   \n",
       "650365                                NaN   \n",
       "650366                                NaN   \n",
       "650367                                NaN   \n",
       "650368                                NaN   \n",
       "650369                                NaN   \n",
       "\n",
       "       Removal of more than just outer clothing  \n",
       "7304                                        NaN  \n",
       "7305                                        NaN  \n",
       "7306                                        NaN  \n",
       "7307                                        NaN  \n",
       "7308                                        NaN  \n",
       "...                                         ...  \n",
       "650365                                      NaN  \n",
       "650366                                      NaN  \n",
       "650367                                      NaN  \n",
       "650368                                      NaN  \n",
       "650369                                      NaN  \n",
       "\n",
       "[351294 rows x 2 columns]"
      ]
     },
     "execution_count": 81,
     "metadata": {},
     "output_type": "execute_result"
    }
   ],
   "source": [
    "df.loc[df[df.station=='metropolitan'].index,['Outcome linked to object of search','Removal of more than just outer clothing']]"
   ]
  },
  {
   "cell_type": "code",
   "execution_count": 82,
   "id": "express-delaware",
   "metadata": {},
   "outputs": [
    {
     "data": {
      "text/html": [
       "<div>\n",
       "<style scoped>\n",
       "    .dataframe tbody tr th:only-of-type {\n",
       "        vertical-align: middle;\n",
       "    }\n",
       "\n",
       "    .dataframe tbody tr th {\n",
       "        vertical-align: top;\n",
       "    }\n",
       "\n",
       "    .dataframe thead th {\n",
       "        text-align: right;\n",
       "    }\n",
       "</style>\n",
       "<table border=\"1\" class=\"dataframe\">\n",
       "  <thead>\n",
       "    <tr style=\"text-align: right;\">\n",
       "      <th></th>\n",
       "      <th>Outcome linked to object of search</th>\n",
       "      <th>Removal of more than just outer clothing</th>\n",
       "    </tr>\n",
       "  </thead>\n",
       "  <tbody>\n",
       "    <tr>\n",
       "      <th>7304</th>\n",
       "      <td>NaN</td>\n",
       "      <td>NaN</td>\n",
       "    </tr>\n",
       "    <tr>\n",
       "      <th>7305</th>\n",
       "      <td>NaN</td>\n",
       "      <td>NaN</td>\n",
       "    </tr>\n",
       "    <tr>\n",
       "      <th>7306</th>\n",
       "      <td>NaN</td>\n",
       "      <td>NaN</td>\n",
       "    </tr>\n",
       "    <tr>\n",
       "      <th>7307</th>\n",
       "      <td>NaN</td>\n",
       "      <td>NaN</td>\n",
       "    </tr>\n",
       "    <tr>\n",
       "      <th>7308</th>\n",
       "      <td>NaN</td>\n",
       "      <td>NaN</td>\n",
       "    </tr>\n",
       "    <tr>\n",
       "      <th>...</th>\n",
       "      <td>...</td>\n",
       "      <td>...</td>\n",
       "    </tr>\n",
       "    <tr>\n",
       "      <th>650365</th>\n",
       "      <td>NaN</td>\n",
       "      <td>NaN</td>\n",
       "    </tr>\n",
       "    <tr>\n",
       "      <th>650366</th>\n",
       "      <td>NaN</td>\n",
       "      <td>NaN</td>\n",
       "    </tr>\n",
       "    <tr>\n",
       "      <th>650367</th>\n",
       "      <td>NaN</td>\n",
       "      <td>NaN</td>\n",
       "    </tr>\n",
       "    <tr>\n",
       "      <th>650368</th>\n",
       "      <td>NaN</td>\n",
       "      <td>NaN</td>\n",
       "    </tr>\n",
       "    <tr>\n",
       "      <th>650369</th>\n",
       "      <td>NaN</td>\n",
       "      <td>NaN</td>\n",
       "    </tr>\n",
       "  </tbody>\n",
       "</table>\n",
       "<p>351294 rows × 2 columns</p>\n",
       "</div>"
      ],
      "text/plain": [
       "       Outcome linked to object of search  \\\n",
       "7304                                  NaN   \n",
       "7305                                  NaN   \n",
       "7306                                  NaN   \n",
       "7307                                  NaN   \n",
       "7308                                  NaN   \n",
       "...                                   ...   \n",
       "650365                                NaN   \n",
       "650366                                NaN   \n",
       "650367                                NaN   \n",
       "650368                                NaN   \n",
       "650369                                NaN   \n",
       "\n",
       "       Removal of more than just outer clothing  \n",
       "7304                                        NaN  \n",
       "7305                                        NaN  \n",
       "7306                                        NaN  \n",
       "7307                                        NaN  \n",
       "7308                                        NaN  \n",
       "...                                         ...  \n",
       "650365                                      NaN  \n",
       "650366                                      NaN  \n",
       "650367                                      NaN  \n",
       "650368                                      NaN  \n",
       "650369                                      NaN  \n",
       "\n",
       "[351294 rows x 2 columns]"
      ]
     },
     "execution_count": 82,
     "metadata": {},
     "output_type": "execute_result"
    }
   ],
   "source": [
    "df.loc[df.station=='metropolitan',['Outcome linked to object of search','Removal of more than just outer clothing']]"
   ]
  },
  {
   "cell_type": "markdown",
   "id": "express-moses",
   "metadata": {},
   "source": [
    "# Dealing with datetime features"
   ]
  },
  {
   "cell_type": "code",
   "execution_count": 83,
   "id": "endless-friendship",
   "metadata": {},
   "outputs": [
    {
     "data": {
      "text/html": [
       "<div>\n",
       "<style scoped>\n",
       "    .dataframe tbody tr th:only-of-type {\n",
       "        vertical-align: middle;\n",
       "    }\n",
       "\n",
       "    .dataframe tbody tr th {\n",
       "        vertical-align: top;\n",
       "    }\n",
       "\n",
       "    .dataframe thead th {\n",
       "        text-align: right;\n",
       "    }\n",
       "</style>\n",
       "<table border=\"1\" class=\"dataframe\">\n",
       "  <thead>\n",
       "    <tr style=\"text-align: right;\">\n",
       "      <th></th>\n",
       "      <th>observation_id</th>\n",
       "      <th>Type</th>\n",
       "      <th>Date</th>\n",
       "      <th>Part of a policing operation</th>\n",
       "      <th>Latitude</th>\n",
       "      <th>Longitude</th>\n",
       "      <th>Gender</th>\n",
       "      <th>Age range</th>\n",
       "      <th>Self-defined ethnicity</th>\n",
       "      <th>Officer-defined ethnicity</th>\n",
       "      <th>Legislation</th>\n",
       "      <th>Object of search</th>\n",
       "      <th>Outcome</th>\n",
       "      <th>Outcome linked to object of search</th>\n",
       "      <th>Removal of more than just outer clothing</th>\n",
       "      <th>station</th>\n",
       "      <th>target</th>\n",
       "      <th>hour</th>\n",
       "      <th>month</th>\n",
       "      <th>day_of_week</th>\n",
       "    </tr>\n",
       "  </thead>\n",
       "  <tbody>\n",
       "    <tr>\n",
       "      <th>0</th>\n",
       "      <td>34d76816-cfc2-4bdd-b3a2-bf0c40b12689</td>\n",
       "      <td>Person search</td>\n",
       "      <td>2019-12-01 00:00:00+00:00</td>\n",
       "      <td>True</td>\n",
       "      <td>NaN</td>\n",
       "      <td>NaN</td>\n",
       "      <td>Male</td>\n",
       "      <td>18-24</td>\n",
       "      <td>Asian/Asian British - Any other Asian background</td>\n",
       "      <td>Asian</td>\n",
       "      <td>Misuse of Drugs Act 1971 (section 23)</td>\n",
       "      <td>Controlled drugs</td>\n",
       "      <td>A no further action disposal</td>\n",
       "      <td>NaN</td>\n",
       "      <td>False</td>\n",
       "      <td>devon-and-cornwall</td>\n",
       "      <td>False</td>\n",
       "      <td>0</td>\n",
       "      <td>12</td>\n",
       "      <td>Sunday</td>\n",
       "    </tr>\n",
       "    <tr>\n",
       "      <th>1</th>\n",
       "      <td>83c87ec1-e6d4-4bbb-8e0c-159516706359</td>\n",
       "      <td>Person search</td>\n",
       "      <td>2019-12-01 00:09:00+00:00</td>\n",
       "      <td>True</td>\n",
       "      <td>NaN</td>\n",
       "      <td>NaN</td>\n",
       "      <td>Male</td>\n",
       "      <td>18-24</td>\n",
       "      <td>NaN</td>\n",
       "      <td>White</td>\n",
       "      <td>Misuse of Drugs Act 1971 (section 23)</td>\n",
       "      <td>Controlled drugs</td>\n",
       "      <td>A no further action disposal</td>\n",
       "      <td>NaN</td>\n",
       "      <td>False</td>\n",
       "      <td>devon-and-cornwall</td>\n",
       "      <td>False</td>\n",
       "      <td>0</td>\n",
       "      <td>12</td>\n",
       "      <td>Sunday</td>\n",
       "    </tr>\n",
       "    <tr>\n",
       "      <th>2</th>\n",
       "      <td>8c2eae4b-035a-492f-92d6-cd27e6c900a1</td>\n",
       "      <td>Person search</td>\n",
       "      <td>2019-12-01 00:10:00+00:00</td>\n",
       "      <td>True</td>\n",
       "      <td>NaN</td>\n",
       "      <td>NaN</td>\n",
       "      <td>Female</td>\n",
       "      <td>18-24</td>\n",
       "      <td>White - English/Welsh/Scottish/Northern Irish/...</td>\n",
       "      <td>White</td>\n",
       "      <td>Misuse of Drugs Act 1971 (section 23)</td>\n",
       "      <td>Controlled drugs</td>\n",
       "      <td>A no further action disposal</td>\n",
       "      <td>NaN</td>\n",
       "      <td>False</td>\n",
       "      <td>devon-and-cornwall</td>\n",
       "      <td>False</td>\n",
       "      <td>0</td>\n",
       "      <td>12</td>\n",
       "      <td>Sunday</td>\n",
       "    </tr>\n",
       "    <tr>\n",
       "      <th>3</th>\n",
       "      <td>e63a036a-a728-4efe-8e08-7198f56d6d0a</td>\n",
       "      <td>Person search</td>\n",
       "      <td>2019-12-01 00:10:00+00:00</td>\n",
       "      <td>False</td>\n",
       "      <td>NaN</td>\n",
       "      <td>NaN</td>\n",
       "      <td>Male</td>\n",
       "      <td>18-24</td>\n",
       "      <td>NaN</td>\n",
       "      <td>Asian</td>\n",
       "      <td>Misuse of Drugs Act 1971 (section 23)</td>\n",
       "      <td>Controlled drugs</td>\n",
       "      <td>A no further action disposal</td>\n",
       "      <td>NaN</td>\n",
       "      <td>False</td>\n",
       "      <td>devon-and-cornwall</td>\n",
       "      <td>False</td>\n",
       "      <td>0</td>\n",
       "      <td>12</td>\n",
       "      <td>Sunday</td>\n",
       "    </tr>\n",
       "    <tr>\n",
       "      <th>4</th>\n",
       "      <td>40c70aca-1f7f-4efe-8c5b-ade0f2e9937d</td>\n",
       "      <td>Person search</td>\n",
       "      <td>2019-12-01 00:12:00+00:00</td>\n",
       "      <td>True</td>\n",
       "      <td>50.368247</td>\n",
       "      <td>-4.126646</td>\n",
       "      <td>Male</td>\n",
       "      <td>18-24</td>\n",
       "      <td>NaN</td>\n",
       "      <td>White</td>\n",
       "      <td>Misuse of Drugs Act 1971 (section 23)</td>\n",
       "      <td>Controlled drugs</td>\n",
       "      <td>A no further action disposal</td>\n",
       "      <td>NaN</td>\n",
       "      <td>False</td>\n",
       "      <td>devon-and-cornwall</td>\n",
       "      <td>False</td>\n",
       "      <td>0</td>\n",
       "      <td>12</td>\n",
       "      <td>Sunday</td>\n",
       "    </tr>\n",
       "    <tr>\n",
       "      <th>...</th>\n",
       "      <td>...</td>\n",
       "      <td>...</td>\n",
       "      <td>...</td>\n",
       "      <td>...</td>\n",
       "      <td>...</td>\n",
       "      <td>...</td>\n",
       "      <td>...</td>\n",
       "      <td>...</td>\n",
       "      <td>...</td>\n",
       "      <td>...</td>\n",
       "      <td>...</td>\n",
       "      <td>...</td>\n",
       "      <td>...</td>\n",
       "      <td>...</td>\n",
       "      <td>...</td>\n",
       "      <td>...</td>\n",
       "      <td>...</td>\n",
       "      <td>...</td>\n",
       "      <td>...</td>\n",
       "      <td>...</td>\n",
       "    </tr>\n",
       "    <tr>\n",
       "      <th>660606</th>\n",
       "      <td>a23dc59d-29fe-48e5-b012-81feb6acfddf</td>\n",
       "      <td>Person search</td>\n",
       "      <td>2018-08-29 02:45:00+00:00</td>\n",
       "      <td>NaN</td>\n",
       "      <td>NaN</td>\n",
       "      <td>NaN</td>\n",
       "      <td>Male</td>\n",
       "      <td>18-24</td>\n",
       "      <td>White - English/Welsh/Scottish/Northern Irish/...</td>\n",
       "      <td>White</td>\n",
       "      <td>Misuse of Drugs Act 1971 (section 23)</td>\n",
       "      <td>Controlled drugs</td>\n",
       "      <td>A no further action disposal</td>\n",
       "      <td>NaN</td>\n",
       "      <td>NaN</td>\n",
       "      <td>wiltshire</td>\n",
       "      <td>False</td>\n",
       "      <td>2</td>\n",
       "      <td>8</td>\n",
       "      <td>Wednesday</td>\n",
       "    </tr>\n",
       "    <tr>\n",
       "      <th>660607</th>\n",
       "      <td>425fde18-f7d5-4ebe-baf4-714cadd5a445</td>\n",
       "      <td>Person and Vehicle search</td>\n",
       "      <td>2018-08-29 21:00:00+00:00</td>\n",
       "      <td>False</td>\n",
       "      <td>51.540219</td>\n",
       "      <td>-1.764708</td>\n",
       "      <td>Male</td>\n",
       "      <td>18-24</td>\n",
       "      <td>White - English/Welsh/Scottish/Northern Irish/...</td>\n",
       "      <td>White</td>\n",
       "      <td>Misuse of Drugs Act 1971 (section 23)</td>\n",
       "      <td>Controlled drugs</td>\n",
       "      <td>Penalty Notice for Disorder</td>\n",
       "      <td>True</td>\n",
       "      <td>False</td>\n",
       "      <td>wiltshire</td>\n",
       "      <td>True</td>\n",
       "      <td>21</td>\n",
       "      <td>8</td>\n",
       "      <td>Wednesday</td>\n",
       "    </tr>\n",
       "    <tr>\n",
       "      <th>660608</th>\n",
       "      <td>7c249ab7-d4bf-47ef-86bd-aad51d7d2aab</td>\n",
       "      <td>Person search</td>\n",
       "      <td>2018-08-29 21:10:00+00:00</td>\n",
       "      <td>False</td>\n",
       "      <td>51.540219</td>\n",
       "      <td>-1.764708</td>\n",
       "      <td>Male</td>\n",
       "      <td>18-24</td>\n",
       "      <td>White - English/Welsh/Scottish/Northern Irish/...</td>\n",
       "      <td>White</td>\n",
       "      <td>Misuse of Drugs Act 1971 (section 23)</td>\n",
       "      <td>Controlled drugs</td>\n",
       "      <td>A no further action disposal</td>\n",
       "      <td>NaN</td>\n",
       "      <td>False</td>\n",
       "      <td>wiltshire</td>\n",
       "      <td>False</td>\n",
       "      <td>21</td>\n",
       "      <td>8</td>\n",
       "      <td>Wednesday</td>\n",
       "    </tr>\n",
       "    <tr>\n",
       "      <th>660609</th>\n",
       "      <td>4fa54513-20c4-4a53-a5db-8a4bb85b1e32</td>\n",
       "      <td>Person search</td>\n",
       "      <td>2018-08-29 21:15:00+00:00</td>\n",
       "      <td>False</td>\n",
       "      <td>51.540219</td>\n",
       "      <td>-1.764708</td>\n",
       "      <td>Male</td>\n",
       "      <td>18-24</td>\n",
       "      <td>White - English/Welsh/Scottish/Northern Irish/...</td>\n",
       "      <td>White</td>\n",
       "      <td>Misuse of Drugs Act 1971 (section 23)</td>\n",
       "      <td>Controlled drugs</td>\n",
       "      <td>A no further action disposal</td>\n",
       "      <td>NaN</td>\n",
       "      <td>False</td>\n",
       "      <td>wiltshire</td>\n",
       "      <td>False</td>\n",
       "      <td>21</td>\n",
       "      <td>8</td>\n",
       "      <td>Wednesday</td>\n",
       "    </tr>\n",
       "    <tr>\n",
       "      <th>660610</th>\n",
       "      <td>4d8604d3-9864-4fd5-a811-f8ce7bed619a</td>\n",
       "      <td>Person search</td>\n",
       "      <td>2018-08-30 13:15:00+00:00</td>\n",
       "      <td>NaN</td>\n",
       "      <td>NaN</td>\n",
       "      <td>NaN</td>\n",
       "      <td>Female</td>\n",
       "      <td>over 34</td>\n",
       "      <td>White - English/Welsh/Scottish/Northern Irish/...</td>\n",
       "      <td>White</td>\n",
       "      <td>Misuse of Drugs Act 1971 (section 23)</td>\n",
       "      <td>Controlled drugs</td>\n",
       "      <td>Caution (simple or conditional)</td>\n",
       "      <td>NaN</td>\n",
       "      <td>NaN</td>\n",
       "      <td>wiltshire</td>\n",
       "      <td>True</td>\n",
       "      <td>13</td>\n",
       "      <td>8</td>\n",
       "      <td>Thursday</td>\n",
       "    </tr>\n",
       "  </tbody>\n",
       "</table>\n",
       "<p>660611 rows × 20 columns</p>\n",
       "</div>"
      ],
      "text/plain": [
       "                              observation_id                       Type  \\\n",
       "0       34d76816-cfc2-4bdd-b3a2-bf0c40b12689              Person search   \n",
       "1       83c87ec1-e6d4-4bbb-8e0c-159516706359              Person search   \n",
       "2       8c2eae4b-035a-492f-92d6-cd27e6c900a1              Person search   \n",
       "3       e63a036a-a728-4efe-8e08-7198f56d6d0a              Person search   \n",
       "4       40c70aca-1f7f-4efe-8c5b-ade0f2e9937d              Person search   \n",
       "...                                      ...                        ...   \n",
       "660606  a23dc59d-29fe-48e5-b012-81feb6acfddf              Person search   \n",
       "660607  425fde18-f7d5-4ebe-baf4-714cadd5a445  Person and Vehicle search   \n",
       "660608  7c249ab7-d4bf-47ef-86bd-aad51d7d2aab              Person search   \n",
       "660609  4fa54513-20c4-4a53-a5db-8a4bb85b1e32              Person search   \n",
       "660610  4d8604d3-9864-4fd5-a811-f8ce7bed619a              Person search   \n",
       "\n",
       "                            Date Part of a policing operation   Latitude  \\\n",
       "0      2019-12-01 00:00:00+00:00                         True        NaN   \n",
       "1      2019-12-01 00:09:00+00:00                         True        NaN   \n",
       "2      2019-12-01 00:10:00+00:00                         True        NaN   \n",
       "3      2019-12-01 00:10:00+00:00                        False        NaN   \n",
       "4      2019-12-01 00:12:00+00:00                         True  50.368247   \n",
       "...                          ...                          ...        ...   \n",
       "660606 2018-08-29 02:45:00+00:00                          NaN        NaN   \n",
       "660607 2018-08-29 21:00:00+00:00                        False  51.540219   \n",
       "660608 2018-08-29 21:10:00+00:00                        False  51.540219   \n",
       "660609 2018-08-29 21:15:00+00:00                        False  51.540219   \n",
       "660610 2018-08-30 13:15:00+00:00                          NaN        NaN   \n",
       "\n",
       "        Longitude  Gender Age range  \\\n",
       "0             NaN    Male     18-24   \n",
       "1             NaN    Male     18-24   \n",
       "2             NaN  Female     18-24   \n",
       "3             NaN    Male     18-24   \n",
       "4       -4.126646    Male     18-24   \n",
       "...           ...     ...       ...   \n",
       "660606        NaN    Male     18-24   \n",
       "660607  -1.764708    Male     18-24   \n",
       "660608  -1.764708    Male     18-24   \n",
       "660609  -1.764708    Male     18-24   \n",
       "660610        NaN  Female   over 34   \n",
       "\n",
       "                                   Self-defined ethnicity  \\\n",
       "0        Asian/Asian British - Any other Asian background   \n",
       "1                                                     NaN   \n",
       "2       White - English/Welsh/Scottish/Northern Irish/...   \n",
       "3                                                     NaN   \n",
       "4                                                     NaN   \n",
       "...                                                   ...   \n",
       "660606  White - English/Welsh/Scottish/Northern Irish/...   \n",
       "660607  White - English/Welsh/Scottish/Northern Irish/...   \n",
       "660608  White - English/Welsh/Scottish/Northern Irish/...   \n",
       "660609  White - English/Welsh/Scottish/Northern Irish/...   \n",
       "660610  White - English/Welsh/Scottish/Northern Irish/...   \n",
       "\n",
       "       Officer-defined ethnicity                            Legislation  \\\n",
       "0                          Asian  Misuse of Drugs Act 1971 (section 23)   \n",
       "1                          White  Misuse of Drugs Act 1971 (section 23)   \n",
       "2                          White  Misuse of Drugs Act 1971 (section 23)   \n",
       "3                          Asian  Misuse of Drugs Act 1971 (section 23)   \n",
       "4                          White  Misuse of Drugs Act 1971 (section 23)   \n",
       "...                          ...                                    ...   \n",
       "660606                     White  Misuse of Drugs Act 1971 (section 23)   \n",
       "660607                     White  Misuse of Drugs Act 1971 (section 23)   \n",
       "660608                     White  Misuse of Drugs Act 1971 (section 23)   \n",
       "660609                     White  Misuse of Drugs Act 1971 (section 23)   \n",
       "660610                     White  Misuse of Drugs Act 1971 (section 23)   \n",
       "\n",
       "        Object of search                          Outcome  \\\n",
       "0       Controlled drugs     A no further action disposal   \n",
       "1       Controlled drugs     A no further action disposal   \n",
       "2       Controlled drugs     A no further action disposal   \n",
       "3       Controlled drugs     A no further action disposal   \n",
       "4       Controlled drugs     A no further action disposal   \n",
       "...                  ...                              ...   \n",
       "660606  Controlled drugs     A no further action disposal   \n",
       "660607  Controlled drugs      Penalty Notice for Disorder   \n",
       "660608  Controlled drugs     A no further action disposal   \n",
       "660609  Controlled drugs     A no further action disposal   \n",
       "660610  Controlled drugs  Caution (simple or conditional)   \n",
       "\n",
       "       Outcome linked to object of search  \\\n",
       "0                                     NaN   \n",
       "1                                     NaN   \n",
       "2                                     NaN   \n",
       "3                                     NaN   \n",
       "4                                     NaN   \n",
       "...                                   ...   \n",
       "660606                                NaN   \n",
       "660607                               True   \n",
       "660608                                NaN   \n",
       "660609                                NaN   \n",
       "660610                                NaN   \n",
       "\n",
       "       Removal of more than just outer clothing             station  target  \\\n",
       "0                                         False  devon-and-cornwall   False   \n",
       "1                                         False  devon-and-cornwall   False   \n",
       "2                                         False  devon-and-cornwall   False   \n",
       "3                                         False  devon-and-cornwall   False   \n",
       "4                                         False  devon-and-cornwall   False   \n",
       "...                                         ...                 ...     ...   \n",
       "660606                                      NaN           wiltshire   False   \n",
       "660607                                    False           wiltshire    True   \n",
       "660608                                    False           wiltshire   False   \n",
       "660609                                    False           wiltshire   False   \n",
       "660610                                      NaN           wiltshire    True   \n",
       "\n",
       "        hour  month day_of_week  \n",
       "0          0     12      Sunday  \n",
       "1          0     12      Sunday  \n",
       "2          0     12      Sunday  \n",
       "3          0     12      Sunday  \n",
       "4          0     12      Sunday  \n",
       "...      ...    ...         ...  \n",
       "660606     2      8   Wednesday  \n",
       "660607    21      8   Wednesday  \n",
       "660608    21      8   Wednesday  \n",
       "660609    21      8   Wednesday  \n",
       "660610    13      8    Thursday  \n",
       "\n",
       "[660611 rows x 20 columns]"
      ]
     },
     "execution_count": 83,
     "metadata": {},
     "output_type": "execute_result"
    }
   ],
   "source": [
    "\n",
    "df['Date'] = pd.to_datetime(df['Date'])\n",
    "\n",
    "# get the hour and day of the week, maybe they will be useful \n",
    "df['hour'] = df['Date'].dt.hour\n",
    "df['month'] = df['Date'].dt.month\n",
    "df['day_of_week'] = df['Date'].dt.day_name()\n",
    "df"
   ]
  },
  {
   "cell_type": "code",
   "execution_count": 84,
   "id": "interior-bradford",
   "metadata": {},
   "outputs": [],
   "source": [
    "#decision: ignoring the time and adding hour month and day_of_week columns from original Date column"
   ]
  },
  {
   "cell_type": "markdown",
   "id": "continued-generation",
   "metadata": {},
   "source": [
    "# Cleaning the data frame"
   ]
  },
  {
   "cell_type": "code",
   "execution_count": 85,
   "id": "genetic-brush",
   "metadata": {},
   "outputs": [],
   "source": [
    "#remove some rows like other in grnder and metropolitan in station(Later I will write a function for that)"
   ]
  },
  {
   "cell_type": "code",
   "execution_count": 86,
   "id": "sophisticated-death",
   "metadata": {},
   "outputs": [
    {
     "data": {
      "text/plain": [
       "(309045, 20)"
      ]
     },
     "execution_count": 86,
     "metadata": {},
     "output_type": "execute_result"
    }
   ],
   "source": [
    "#remove metropolitan station from our analysis\n",
    "df = df.copy()\n",
    "mask = df['station']=='metropolitan'\n",
    "metro_station_index = df[mask].index\n",
    "df = df.drop(metro_station_index)\n",
    "df.shape\n",
    "#remove other from gender from our analysis\n",
    "mask = df['Gender']=='Other'\n",
    "Other_Gender_index = df[mask].index\n",
    "df = df.drop(Other_Gender_index)\n",
    "df.shape"
   ]
  },
  {
   "cell_type": "code",
   "execution_count": 87,
   "id": "bright-selling",
   "metadata": {},
   "outputs": [
    {
     "name": "stdout",
     "output_type": "stream",
     "text": [
      "<class 'pandas.core.frame.DataFrame'>\n",
      "Int64Index: 309045 entries, 0 to 660610\n",
      "Data columns (total 20 columns):\n",
      " #   Column                                    Non-Null Count   Dtype              \n",
      "---  ------                                    --------------   -----              \n",
      " 0   observation_id                            309045 non-null  object             \n",
      " 1   Type                                      309045 non-null  object             \n",
      " 2   Date                                      309045 non-null  datetime64[ns, UTC]\n",
      " 3   Part of a policing operation              155607 non-null  object             \n",
      " 4   Latitude                                  230021 non-null  float64            \n",
      " 5   Longitude                                 230021 non-null  float64            \n",
      " 6   Gender                                    309045 non-null  object             \n",
      " 7   Age range                                 309045 non-null  object             \n",
      " 8   Self-defined ethnicity                    303507 non-null  object             \n",
      " 9   Officer-defined ethnicity                 309045 non-null  object             \n",
      " 10  Legislation                               281116 non-null  object             \n",
      " 11  Object of search                          309045 non-null  object             \n",
      " 12  Outcome                                   309045 non-null  object             \n",
      " 13  Outcome linked to object of search        187350 non-null  object             \n",
      " 14  Removal of more than just outer clothing  233862 non-null  object             \n",
      " 15  station                                   309045 non-null  object             \n",
      " 16  target                                    309045 non-null  bool               \n",
      " 17  hour                                      309045 non-null  int64              \n",
      " 18  month                                     309045 non-null  int64              \n",
      " 19  day_of_week                               309045 non-null  object             \n",
      "dtypes: bool(1), datetime64[ns, UTC](1), float64(2), int64(2), object(14)\n",
      "memory usage: 47.5+ MB\n"
     ]
    }
   ],
   "source": [
    "df.info()"
   ]
  },
  {
   "cell_type": "markdown",
   "id": "fantastic-attitude",
   "metadata": {},
   "source": [
    "# build new target according to outcome lined to object of search(This is true target for training)"
   ]
  },
  {
   "cell_type": "code",
   "execution_count": 90,
   "id": "color-classic",
   "metadata": {},
   "outputs": [
    {
     "name": "stdout",
     "output_type": "stream",
     "text": [
      "<class 'pandas.core.frame.DataFrame'>\n",
      "Int64Index: 130732 entries, 16 to 660610\n",
      "Data columns (total 20 columns):\n",
      " #   Column                                    Non-Null Count   Dtype              \n",
      "---  ------                                    --------------   -----              \n",
      " 0   observation_id                            130732 non-null  object             \n",
      " 1   Type                                      130732 non-null  object             \n",
      " 2   Date                                      130732 non-null  datetime64[ns, UTC]\n",
      " 3   Part of a policing operation              73170 non-null   object             \n",
      " 4   Latitude                                  102278 non-null  float64            \n",
      " 5   Longitude                                 102278 non-null  float64            \n",
      " 6   Gender                                    130732 non-null  object             \n",
      " 7   Age range                                 130732 non-null  object             \n",
      " 8   Self-defined ethnicity                    128808 non-null  object             \n",
      " 9   Officer-defined ethnicity                 130732 non-null  object             \n",
      " 10  Legislation                               122452 non-null  object             \n",
      " 11  Object of search                          130732 non-null  object             \n",
      " 12  Outcome                                   130732 non-null  object             \n",
      " 13  Outcome linked to object of search        123398 non-null  object             \n",
      " 14  Removal of more than just outer clothing  101255 non-null  object             \n",
      " 15  station                                   130732 non-null  object             \n",
      " 16  target                                    130732 non-null  bool               \n",
      " 17  hour                                      130732 non-null  int64              \n",
      " 18  month                                     130732 non-null  int64              \n",
      " 19  day_of_week                               130732 non-null  object             \n",
      "dtypes: bool(1), datetime64[ns, UTC](1), float64(2), int64(2), object(14)\n",
      "memory usage: 20.1+ MB\n"
     ]
    },
    {
     "data": {
      "text/plain": [
       "True     100210\n",
       "False     23188\n",
       "Name: Outcome linked to object of search, dtype: int64"
      ]
     },
     "execution_count": 90,
     "metadata": {},
     "output_type": "execute_result"
    }
   ],
   "source": [
    "# build new dataframe for training\n",
    "\n",
    "df_search = df[(df['Outcome linked to object of search'] == True) | (df['target'] == True) ]\n",
    "df_search.info()\n",
    "df_search['Outcome linked to object of search'].value_counts()"
   ]
  },
  {
   "cell_type": "markdown",
   "id": "dominican-andorra",
   "metadata": {},
   "source": [
    "# Check if after cleaning the outcome ot target is bias"
   ]
  },
  {
   "cell_type": "code",
   "execution_count": 91,
   "id": "future-thousand",
   "metadata": {},
   "outputs": [
    {
     "data": {
      "text/plain": [
       "False    216285\n",
       "True      92760\n",
       "Name: target, dtype: int64"
      ]
     },
     "execution_count": 91,
     "metadata": {},
     "output_type": "execute_result"
    }
   ],
   "source": [
    "df.target.value_counts()"
   ]
  },
  {
   "cell_type": "code",
   "execution_count": 92,
   "id": "cathedral-quality",
   "metadata": {},
   "outputs": [
    {
     "data": {
      "text/plain": [
       "<AxesSubplot:>"
      ]
     },
     "execution_count": 92,
     "metadata": {},
     "output_type": "execute_result"
    },
    {
     "data": {
      "image/png": "[encoded data removed]",
      "text/plain": [
       "<Figure size 432x288 with 1 Axes>"
      ]
     },
     "metadata": {
      "needs_background": "light"
     },
     "output_type": "display_data"
    }
   ],
   "source": [
    "df.target.value_counts().plot.bar()"
   ]
  },
  {
   "cell_type": "code",
   "execution_count": 93,
   "id": "shared-toronto",
   "metadata": {},
   "outputs": [
    {
     "data": {
      "text/plain": [
       "True     92760\n",
       "False    37972\n",
       "Name: target, dtype: int64"
      ]
     },
     "execution_count": 93,
     "metadata": {},
     "output_type": "execute_result"
    }
   ],
   "source": [
    "# check for df_search\n",
    "df_search['target'].value_counts()"
   ]
  },
  {
   "cell_type": "code",
   "execution_count": 94,
   "id": "amended-diversity",
   "metadata": {},
   "outputs": [
    {
     "data": {
      "text/plain": [
       "<AxesSubplot:>"
      ]
     },
     "execution_count": 94,
     "metadata": {},
     "output_type": "execute_result"
    },
    {
     "data": {
      "image/png": "[encoded data removed]",
      "text/plain": [
       "<Figure size 432x288 with 1 Axes>"
      ]
     },
     "metadata": {
      "needs_background": "light"
     },
     "output_type": "display_data"
    }
   ],
   "source": [
    "df_search.target.value_counts().plot.bar()"
   ]
  },
  {
   "cell_type": "markdown",
   "id": "official-format",
   "metadata": {},
   "source": [
    "# Percentage of true and false in target for df"
   ]
  },
  {
   "cell_type": "code",
   "execution_count": 95,
   "id": "quarterly-declaration",
   "metadata": {},
   "outputs": [
    {
     "name": "stdout",
     "output_type": "stream",
     "text": [
      "target_false_percentage:69.98495364752706,target_true_percentage:30.01504635247294\n"
     ]
    }
   ],
   "source": [
    "len_target = df.shape[0]\n",
    "target_false_percentage = df.target.value_counts()[0]*100/len_target\n",
    "target_true_percentage = df.target.value_counts()[1]*100/len_target\n",
    "print(\"target_false_percentage:{},target_true_percentage:{}\".format(target_false_percentage,target_true_percentage))"
   ]
  },
  {
   "cell_type": "markdown",
   "id": "square-highland",
   "metadata": {},
   "source": [
    "# Percentage of true and false in target for df_search"
   ]
  },
  {
   "cell_type": "code",
   "execution_count": 96,
   "id": "private-korea",
   "metadata": {},
   "outputs": [
    {
     "name": "stdout",
     "output_type": "stream",
     "text": [
      "target_false_percentage:29.045681241012147,target_true_percentage:70.95431875898785\n"
     ]
    }
   ],
   "source": [
    "len_target = df_search.shape[0]\n",
    "target_false_percentage = df_search.target.value_counts()[0]*100/len_target\n",
    "target_true_percentage = df_search.target.value_counts()[1]*100/len_target\n",
    "print(\"target_false_percentage:{},target_true_percentage:{}\".format(target_false_percentage,target_true_percentage))"
   ]
  },
  {
   "cell_type": "code",
   "execution_count": null,
   "id": "hearing-brush",
   "metadata": {},
   "outputs": [],
   "source": [
    "df_search.groupby(['Object', \n",
    "            'Removal of more than just outer clothing'])['Longitude'].count().unstack()"
   ]
  },
  {
   "cell_type": "markdown",
   "id": "vertical-impossible",
   "metadata": {},
   "source": [
    "# Training the model"
   ]
  },
  {
   "cell_type": "code",
   "execution_count": 97,
   "id": "joined-hearing",
   "metadata": {},
   "outputs": [],
   "source": [
    "df_train,df_test = train_test_split(df_search, test_size=0.25, random_state=42)"
   ]
  },
  {
   "cell_type": "code",
   "execution_count": 98,
   "id": "saved-discrimination",
   "metadata": {},
   "outputs": [
    {
     "data": {
      "text/plain": [
       "(98049, 20)"
      ]
     },
     "execution_count": 98,
     "metadata": {},
     "output_type": "execute_result"
    }
   ],
   "source": [
    "df_train.shape"
   ]
  },
  {
   "cell_type": "code",
   "execution_count": 99,
   "id": "rubber-indianapolis",
   "metadata": {},
   "outputs": [
    {
     "data": {
      "text/plain": [
       "(32683, 20)"
      ]
     },
     "execution_count": 99,
     "metadata": {},
     "output_type": "execute_result"
    }
   ],
   "source": [
    "df_test.shape"
   ]
  },
  {
   "cell_type": "code",
   "execution_count": 100,
   "id": "literary-browse",
   "metadata": {},
   "outputs": [],
   "source": [
    "# lowercaes departments and location names\n",
    "#df['Type'] = df['Type'].apply(lambda x: str(x).lower())\n",
    "#df['station'] = df['station'].apply(lambda x: str(x).lower())\n",
    "#df['Officer-defined ethnicity'] = df['Officer-defined ethnicity'].apply(lambda x: str(x).lower())"
   ]
  },
  {
   "cell_type": "code",
   "execution_count": 101,
   "id": "cooperative-column",
   "metadata": {},
   "outputs": [
    {
     "name": "stdout",
     "output_type": "stream",
     "text": [
      "roc_auc_score:  0.712435597872491\n",
      "f1_score:  0.7953302048758156\n",
      "acuracy_score:  0.7264327020163388\n"
     ]
    }
   ],
   "source": [
    "target = 'target'\n",
    "\n",
    "\n",
    "all_features = [\n",
    "  'Type', 'Part of a policing operation','Latitude', 'Longitude',\n",
    "       'Gender', 'Legislation','Object of search', 'Age range',\n",
    "       'Officer-defined ethnicity',\n",
    "       'Removal of more than just outer clothing', 'station','hour', 'month', 'day_of_week'\n",
    "]\n",
    "\n",
    "numerical_features = ['Latitude', 'Longitude','hour','month']\n",
    "categorical_features_obj = [\n",
    "   'Type',\n",
    "       'Gender','Legislation','Object of search', 'Age range',\n",
    "       'Officer-defined ethnicity',\n",
    "        'station', 'day_of_week'\n",
    "]\n",
    "categorical_features_bool = ['Part of a policing operation','Removal of more than just outer clothing']\n",
    "\n",
    "\n",
    "numeric_transformer = Pipeline(steps=[\n",
    "    ('imputer', SimpleImputer(strategy='median')),\n",
    "    ('scaler', StandardScaler())])\n",
    "\n",
    "categorical_transformer_obj = Pipeline(steps=[\n",
    "    ('imputer', SimpleImputer(strategy='constant', fill_value='missing')),\n",
    "    ('onehot', OneHotEncoder(handle_unknown='ignore'))])\n",
    "\n",
    "categorical_transformer_bool = Pipeline(steps=[\n",
    "    ('imputer', SimpleImputer(strategy='most_frequent'))])\n",
    "\n",
    "\n",
    "preprocessor = ColumnTransformer(\n",
    "    transformers=[\n",
    "        ('num', numeric_transformer, numerical_features),\n",
    "        ('cat_obj', categorical_transformer_obj, categorical_features_obj),\n",
    "        ('cat_bool',categorical_transformer_bool, categorical_features_bool)])\n",
    "\n",
    "pipeline = make_pipeline(\n",
    "    preprocessor,\n",
    "    RandomForestClassifier(max_depth=3, min_samples_leaf=.03, class_weight=\"balanced\", random_state=42, n_jobs=-1),\n",
    ")\n",
    "\n",
    "\n",
    "X_train = df_train[all_features]\n",
    "y_train = df_train[target]\n",
    "\n",
    "pipeline.fit(X_train, y_train)\n",
    "\n",
    "X_test = df_test[all_features]\n",
    "y_test = df_test[target]\n",
    "\n",
    "y_pred = pipeline.predict(X_test)\n",
    "y_pred_train = pipeline.predict(X_train)\n",
    "\n",
    "# To use on other cells\n",
    "X_train_baseline = X_train.copy()\n",
    "X_test_baseline = X_test.copy()\n",
    "y_train_baseline = y_train.copy()\n",
    "y_test_baseline = y_test.copy()\n",
    "y_pred_baseline = y_pred.copy()\n",
    "pipeline_baseline = pipeline\n",
    "\n",
    "print('roc_auc_score: ', roc_auc_score(y_test, y_pred))\n",
    "print('f1_score: ', f1_score(y_test, y_pred))\n",
    "#accuracy is wrong metric for imbalance data\n",
    "print('acuracy_score: ', accuracy_score(y_test, y_pred))\n"
   ]
  },
  {
   "cell_type": "code",
   "execution_count": 102,
   "id": "hourly-investigation",
   "metadata": {},
   "outputs": [
    {
     "data": {
      "text/plain": [
       "array([0.56631853, 0.48840687, 0.59235635, ..., 0.56196861, 0.66995206,\n",
       "       0.43924285])"
      ]
     },
     "execution_count": 102,
     "metadata": {},
     "output_type": "execute_result"
    }
   ],
   "source": [
    "y_pred_proba = pipeline.predict_proba(X_test)\n",
    "y_pred_proba[:,1]"
   ]
  },
  {
   "cell_type": "code",
   "execution_count": 103,
   "id": "duplicate-stable",
   "metadata": {},
   "outputs": [
    {
     "data": {
      "text/plain": [
       "array([ True, False,  True, ...,  True,  True, False])"
      ]
     },
     "execution_count": 103,
     "metadata": {},
     "output_type": "execute_result"
    }
   ],
   "source": [
    "y_pred"
   ]
  },
  {
   "cell_type": "code",
   "execution_count": 104,
   "id": "civil-assembly",
   "metadata": {},
   "outputs": [],
   "source": [
    "with open('columns.json', 'w') as fh:\n",
    "    json.dump(X_train.columns.tolist(), fh)\n",
    "    \n",
    "\n",
    "joblib.dump(pipeline, 'pipeline.pickle') \n",
    "\n",
    "with open('dtypes.pickle', 'wb') as fh:\n",
    "    pickle.dump(X_train.dtypes, fh)"
   ]
  },
  {
   "cell_type": "code",
   "execution_count": null,
   "id": "middle-essence",
   "metadata": {},
   "outputs": [],
   "source": []
  },
  {
   "cell_type": "code",
   "execution_count": 105,
   "id": "stone-scheduling",
   "metadata": {},
   "outputs": [],
   "source": [
    "def verify_success_rate_above(y_true, y_pred, min_success_rate=0.1):\n",
    "    \"\"\"\n",
    "    Verifies the success rate on a test set is above a provided minimum\n",
    "    \n",
    "    \n",
    "    \"\"\"\n",
    "    \n",
    "    precision = precision_score(y_true, y_pred, pos_label=True)\n",
    "    is_satisfied = (precision >= min_success_rate)\n",
    "    \n",
    "    return is_satisfied, precision\n"
   ]
  },
  {
   "cell_type": "code",
   "execution_count": 106,
   "id": "satellite-manner",
   "metadata": {},
   "outputs": [
    {
     "data": {
      "text/plain": [
       "(True, 0.8526134969325153)"
      ]
     },
     "execution_count": 106,
     "metadata": {},
     "output_type": "execute_result"
    }
   ],
   "source": [
    "verify_success_rate_above(y_test, y_pred, min_success_rate=0.1)"
   ]
  },
  {
   "cell_type": "code",
   "execution_count": 107,
   "id": "living-lincoln",
   "metadata": {},
   "outputs": [],
   "source": [
    "def verify_amount_found(y_true, y_pred):\n",
    "    \"\"\"\n",
    "    Verifies the amout ofpositive search in the test dataset - a.k.a the recall in our test set\n",
    "    \"\"\"\n",
    "    \n",
    "    recall = recall_score(y_true, y_pred)    \n",
    "    return recall\n"
   ]
  },
  {
   "cell_type": "code",
   "execution_count": 108,
   "id": "future-convergence",
   "metadata": {},
   "outputs": [
    {
     "data": {
      "text/plain": [
       "0.7452595452595453"
      ]
     },
     "execution_count": 108,
     "metadata": {},
     "output_type": "execute_result"
    }
   ],
   "source": [
    "verify_amount_found(y_test, y_pred)"
   ]
  },
  {
   "cell_type": "code",
   "execution_count": 109,
   "id": "north-costs",
   "metadata": {},
   "outputs": [
    {
     "data": {
      "text/plain": [
       "Index(['observation_id', 'Type', 'Date', 'Part of a policing operation',\n",
       "       'Latitude', 'Longitude', 'Gender', 'Age range',\n",
       "       'Self-defined ethnicity', 'Officer-defined ethnicity', 'Legislation',\n",
       "       'Object of search', 'Outcome', 'Outcome linked to object of search',\n",
       "       'Removal of more than just outer clothing', 'station', 'target', 'hour',\n",
       "       'month', 'day_of_week'],\n",
       "      dtype='object')"
      ]
     },
     "execution_count": 109,
     "metadata": {},
     "output_type": "execute_result"
    }
   ],
   "source": [
    "df.columns"
   ]
  },
  {
   "cell_type": "code",
   "execution_count": 110,
   "id": "fiscal-departure",
   "metadata": {},
   "outputs": [
    {
     "data": {
      "text/plain": [
       "array(['devon-and-cornwall', 'dyfed-powys', 'derbyshire', 'bedfordshire',\n",
       "       'avon-and-somerset', 'cheshire', 'sussex', 'north-yorkshire',\n",
       "       'cleveland', 'merseyside', 'north-wales', 'wiltshire', 'norfolk',\n",
       "       'suffolk', 'thames-valley', 'durham', 'warwickshire',\n",
       "       'leicestershire', 'hertfordshire', 'cumbria', 'essex',\n",
       "       'south-yorkshire', 'surrey', 'staffordshire', 'northamptonshire',\n",
       "       'northumbria', 'city-of-london', 'nottinghamshire',\n",
       "       'gloucestershire', 'cambridgeshire', 'lincolnshire', 'btp',\n",
       "       'west-yorkshire', 'dorset', 'west-mercia', 'kent', 'hampshire',\n",
       "       'humberside', 'lancashire', 'greater-manchester', 'gwent'],\n",
       "      dtype=object)"
      ]
     },
     "execution_count": 110,
     "metadata": {},
     "output_type": "execute_result"
    }
   ],
   "source": [
    "station_names = df.station.unique()\n",
    "station_names"
   ]
  },
  {
   "cell_type": "code",
   "execution_count": null,
   "id": "homeless-ethics",
   "metadata": {},
   "outputs": [],
   "source": []
  },
  {
   "cell_type": "markdown",
   "id": "upset-touch",
   "metadata": {},
   "source": [
    "def verify_no_discrimination(X_test, y_test, y_pred, sensitive_column='Removal of more than just outer clothing', max_diff=0.05):\n",
    "    \"\"\"\n",
    "    Verifies that no station has discrimination in between protected races\n",
    "    \n",
    "    \n",
    "    \"\"\"\n",
    "    \n",
    "    stations = X_test['station'].unique()\n",
    "    sensitive_classes = X_test[sensitive_column].unique()\n",
    "    \n",
    "    is_satisfied = True\n",
    "    problematic_stations = []\n",
    "    good_stations = []\n",
    "    for department in departments:\n",
    "        precisions = {}\n",
    "        for sensitive_class in sensitive_classes:\n",
    "            mask = (X_test[sensitive_column] == sensitive_class) & (X_test['Department Name'] == department)\n",
    "            if mask.sum():\n",
    "                precisions[sensitive_class] = precision_score(y_true[mask], y_pred[mask], pos_label=1)\n",
    "                \n",
    "        diff = np.max(list(precisions.values())) - np.min(list(precisions.values()))\n",
    "        if diff > max_diff:\n",
    "            is_satisfied = False\n",
    "            problematic_departments.append((department, diff, precisions))\n",
    "        else:\n",
    "            good_deparments.append((department, diff, precisions))\n",
    "\n",
    "    return is_satisfied, problematic_departments, good_deparments"
   ]
  },
  {
   "cell_type": "markdown",
   "id": "wrapped-motorcycle",
   "metadata": {},
   "source": [
    "# Check server locally"
   ]
  },
  {
   "cell_type": "code",
   "execution_count": 111,
   "id": "hired-gender",
   "metadata": {},
   "outputs": [],
   "source": [
    "# use command \"python app.py\" in ubontu in the directory of the capston 6"
   ]
  },
  {
   "cell_type": "code",
   "execution_count": 116,
   "id": "ranging-furniture",
   "metadata": {},
   "outputs": [],
   "source": [
    "observation = {\n",
    "  \"observation_id\": \"fake-observation-{}\".format(uuid4()),\n",
    "  \"observation\":{\n",
    "      \"Type\":\"Person search\",\n",
    "        \"Part of a policing operation\":True,\n",
    "        \"Latitude\":53.5,\n",
    "        \"Longitude\":1.,\n",
    "        \"Gender\":\"Female\",\n",
    "        \"Legislation\":'Misuse of Drugs Act 1971 (section 23)',\n",
    "        \"Object of search\":\"Controlled drugs\",\n",
    "        \"Age range\":\"over 34\",\n",
    "        \"Officer-defined ethnicity\":\"White\",\n",
    "        \"Removal of more than just outer clothing\":False,\n",
    "        \"station\":\"wiltshire\",\n",
    "        \"hour\":10,\n",
    "        \"month\":2,\n",
    "        \"day_of_week\":\"Thursday\",\n",
    "  }}"
   ]
  },
  {
   "cell_type": "code",
   "execution_count": 117,
   "id": "outstanding-terrace",
   "metadata": {},
   "outputs": [
    {
     "name": "stdout",
     "output_type": "stream",
     "text": [
      "{\"observation_id\": \"fake-observation-1ac20d19-f55c-4630-880f-9cdb1a449104\", \"observation\": {\"Type\": \"Person search\", \"Part of a policing operation\": true, \"Latitude\": 53.5, \"Longitude\": 1.0, \"Gender\": \"Female\", \"Legislation\": \"Misuse of Drugs Act 1971 (section 23)\", \"Object of search\": \"Controlled drugs\", \"Age range\": \"over 34\", \"Officer-defined ethnicity\": \"White\", \"Removal of more than just outer clothing\": false, \"station\": \"wiltshire\", \"hour\": 10, \"month\": 2, \"day_of_week\": \"Thursday\"}}\n"
     ]
    }
   ],
   "source": [
    "print(json.dumps(observation))"
   ]
  },
  {
   "cell_type": "code",
   "execution_count": 118,
   "id": "neutral-connecticut",
   "metadata": {},
   "outputs": [
    {
     "name": "stdout",
     "output_type": "stream",
     "text": [
      "200\n",
      "{\"observation_id\":\"fake-observation-1ac20d19-f55c-4630-880f-9cdb1a449104\",\"prediction\":true,\"proba\":0.5393660456278457}\n",
      "\n"
     ]
    }
   ],
   "source": [
    "url=\"http://127.0.0.1:5000/predict\"\n",
    "headers = {'Content-Type': 'application/json'}\n",
    "\n",
    "r = requests.post(url, data=json.dumps(observation), headers=headers)\n",
    "\n",
    "print(r.status_code)\n",
    "print(r.text)"
   ]
  },
  {
   "cell_type": "code",
   "execution_count": 115,
   "id": "metropolitan-tomato",
   "metadata": {},
   "outputs": [],
   "source": [
    "#pip install requests"
   ]
  },
  {
   "cell_type": "code",
   "execution_count": null,
   "id": "mechanical-ladder",
   "metadata": {},
   "outputs": [],
   "source": []
  }
 ],
 "metadata": {
  "kernelspec": {
   "display_name": "Python 3",
   "language": "python",
   "name": "python3"
  },
  "language_info": {
   "codemirror_mode": {
    "name": "ipython",
    "version": 3
   },
   "file_extension": ".py",
   "mimetype": "text/x-python",
   "name": "python",
   "nbconvert_exporter": "python",
   "pygments_lexer": "ipython3",
   "version": "3.6.9"
  }
 },
 "nbformat": 4,
 "nbformat_minor": 5
}
